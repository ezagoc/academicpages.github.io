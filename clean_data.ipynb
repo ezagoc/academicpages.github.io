{
 "cells": [
  {
   "cell_type": "code",
   "execution_count": 1,
   "id": "62a426ab",
   "metadata": {},
   "outputs": [],
   "source": [
    "import pandas as pd\n",
    "import re # Package for regular expressions"
   ]
  },
  {
   "cell_type": "code",
   "execution_count": 2,
   "id": "08bbd2d1",
   "metadata": {},
   "outputs": [],
   "source": [
    "string1 = 'Creo que el ITAM es la mejor universidad de todas las del país #ITAM. Aunque creo que no de todos los paises de latinoamerica @AMLO.'"
   ]
  },
  {
   "cell_type": "code",
   "execution_count": 3,
   "id": "64f198c0",
   "metadata": {},
   "outputs": [
    {
     "data": {
      "text/plain": [
       "'creo que el itam es la mejor universidad de todas las del país #itam. aunque creo que no de todos los paises de latinoamerica @amlo.'"
      ]
     },
     "execution_count": 3,
     "metadata": {},
     "output_type": "execute_result"
    }
   ],
   "source": [
    "string2 = string1.lower()\n",
    "string2"
   ]
  },
  {
   "cell_type": "code",
   "execution_count": 4,
   "id": "d00c6d01",
   "metadata": {},
   "outputs": [
    {
     "name": "stderr",
     "output_type": "stream",
     "text": [
      "[nltk_data] Downloading package punkt to\n",
      "[nltk_data]     C:\\Users\\Dell\\AppData\\Roaming\\nltk_data...\n",
      "[nltk_data]   Package punkt is already up-to-date!\n"
     ]
    }
   ],
   "source": [
    "import nltk\n",
    "nltk.download('punkt')\n",
    "from nltk.tokenize import word_tokenize"
   ]
  },
  {
   "cell_type": "code",
   "execution_count": 33,
   "id": "63886e26",
   "metadata": {},
   "outputs": [
    {
     "data": {
      "text/plain": [
       "['Creo',\n",
       " 'que',\n",
       " 'el',\n",
       " 'ITAM',\n",
       " 'es',\n",
       " 'la',\n",
       " 'mejor',\n",
       " 'universidad',\n",
       " 'de',\n",
       " 'todas',\n",
       " 'las',\n",
       " 'del',\n",
       " 'país',\n",
       " '#',\n",
       " '.',\n",
       " 'Aunque',\n",
       " 'creo',\n",
       " 'no',\n",
       " 'todos',\n",
       " 'los',\n",
       " 'paises',\n",
       " 'latinoamerica',\n",
       " '@',\n",
       " 'AMLO']"
      ]
     },
     "execution_count": 33,
     "metadata": {},
     "output_type": "execute_result"
    }
   ],
   "source": [
    "tokens = word_tokenize(string1)\n",
    "unique_tokens = [] \n",
    "[unique_tokens.append(x) for x in tokens if x not in unique_tokens]\n",
    "unique_tokens"
   ]
  },
  {
   "cell_type": "code",
   "execution_count": 34,
   "id": "c80e521b",
   "metadata": {},
   "outputs": [],
   "source": [
    "import unidecode\n",
    "def remove_accents(a):\n",
    "    return unidecode.unidecode(a)"
   ]
  },
  {
   "cell_type": "code",
   "execution_count": 35,
   "id": "c2e46cdc",
   "metadata": {},
   "outputs": [
    {
     "data": {
      "text/plain": [
       "'creo que el itam es la mejor universidad de todas las del pais #itam. aunque creo que no de todos los paises de latinoamerica @amlo.'"
      ]
     },
     "execution_count": 35,
     "metadata": {},
     "output_type": "execute_result"
    }
   ],
   "source": [
    "string2 = string1.lower()\n",
    "string2 = remove_accents(string2)\n",
    "string2"
   ]
  },
  {
   "cell_type": "code",
   "execution_count": 39,
   "id": "734444fb",
   "metadata": {},
   "outputs": [
    {
     "data": {
      "text/plain": [
       "'creo que el itam es la mejor universidad de todas las del pais  aunque creo que no de todos los paises de latinoamerica '"
      ]
     },
     "execution_count": 39,
     "metadata": {},
     "output_type": "execute_result"
    }
   ],
   "source": [
    "import re # Import regular expression package\n",
    "def remove_url(text):\n",
    "    return re.sub(r'https?:\\S*','',text)\n",
    "\n",
    "string2 = remove_url(string2)\n",
    "# Remove mentions and hashtags\n",
    "def remove_mentions_and_tags(text):\n",
    "    text = re.sub(r'@\\S*','',text)\n",
    "    return re.sub(r'#\\S*','',text)\n",
    "\n",
    "string2 = remove_mentions_and_tags(string2)\n",
    "string2"
   ]
  },
  {
   "cell_type": "code",
   "execution_count": 25,
   "id": "338e882b",
   "metadata": {},
   "outputs": [
    {
     "name": "stderr",
     "output_type": "stream",
     "text": [
      "[nltk_data] Downloading package wordnet to\n",
      "[nltk_data]     C:\\Users\\Dell\\AppData\\Roaming\\nltk_data...\n",
      "[nltk_data]   Package wordnet is already up-to-date!\n",
      "[nltk_data] Downloading package stopwords to\n",
      "[nltk_data]     C:\\Users\\Dell\\AppData\\Roaming\\nltk_data...\n",
      "[nltk_data]   Package stopwords is already up-to-date!\n",
      "[nltk_data] Downloading package omw-1.4 to\n",
      "[nltk_data]     C:\\Users\\Dell\\AppData\\Roaming\\nltk_data...\n"
     ]
    },
    {
     "data": {
      "text/plain": [
       "True"
      ]
     },
     "execution_count": 25,
     "metadata": {},
     "output_type": "execute_result"
    }
   ],
   "source": [
    "nltk.download('stopwords') # For Stopword Removal"
   ]
  },
  {
   "cell_type": "code",
   "execution_count": 5,
   "id": "de419a67",
   "metadata": {},
   "outputs": [
    {
     "name": "stdout",
     "output_type": "stream",
     "text": [
      "['creo', 'itam', 'mejor', 'universidad', 'todas', 'país', '#', 'itam', '.', 'aunque', 'creo', 'paises', 'latinoamerica', '@', 'amlo', '.']\n"
     ]
    }
   ],
   "source": [
    "from nltk.corpus import stopwords\n",
    "stop_words = set(stopwords.words('spanish'))\n",
    "  \n",
    "word_tokens = word_tokenize(string2)\n",
    "filtered_sentence = []\n",
    "  \n",
    "for w in word_tokens:\n",
    "    if w not in stop_words:\n",
    "        filtered_sentence.append(w)\n",
    "\n",
    "print(filtered_sentence)"
   ]
  },
  {
   "cell_type": "code",
   "execution_count": null,
   "id": "eaa814e2",
   "metadata": {},
   "outputs": [],
   "source": []
  }
 ],
 "metadata": {
  "kernelspec": {
   "display_name": "Python 3 (ipykernel)",
   "language": "python",
   "name": "python3"
  },
  "language_info": {
   "codemirror_mode": {
    "name": "ipython",
    "version": 3
   },
   "file_extension": ".py",
   "mimetype": "text/x-python",
   "name": "python",
   "nbconvert_exporter": "python",
   "pygments_lexer": "ipython3",
   "version": "3.9.12"
  }
 },
 "nbformat": 4,
 "nbformat_minor": 5
}
