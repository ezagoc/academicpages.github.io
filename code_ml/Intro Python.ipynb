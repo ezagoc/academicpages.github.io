{
 "cells": [
  {
   "cell_type": "markdown",
   "id": "b4b6ec47",
   "metadata": {},
   "source": [
    "# Investigación Aplicada 2/ Seminario de Investigación Económica\n",
    "\n",
    "#### Professor: Horacio Larreguy\n",
    "#### TA: Eduardo Zago\n",
    "\n",
    "This Python Notebook contains a tutorial to start using Python to manage data bases. We'll start setting up our Environment, to do this we first need to download the necesary packages. In this case we will be using the function '!pip', as follows:"
   ]
  },
  {
   "cell_type": "code",
   "execution_count": null,
   "id": "0ea94e78",
   "metadata": {},
   "outputs": [
    {
     "name": "stdout",
     "output_type": "stream",
     "text": [
      "Requirement already satisfied: pandas in c:\\users\\dell\\miniconda3\\lib\\site-packages (1.3.4)\n",
      "Requirement already satisfied: pytz>=2017.3 in c:\\users\\dell\\miniconda3\\lib\\site-packages (from pandas) (2021.3)\n",
      "Requirement already satisfied: python-dateutil>=2.7.3 in c:\\users\\dell\\miniconda3\\lib\\site-packages (from pandas) (2.8.2)\n",
      "Requirement already satisfied: numpy>=1.17.3 in c:\\users\\dell\\miniconda3\\lib\\site-packages (from pandas) (1.21.4)\n",
      "Requirement already satisfied: six>=1.5 in c:\\users\\dell\\miniconda3\\lib\\site-packages (from python-dateutil>=2.7.3->pandas) (1.16.0)\n"
     ]
    },
    {
     "name": "stderr",
     "output_type": "stream",
     "text": [
      "\n",
      "[notice] A new release of pip available: 22.2.2 -> 22.3.1\n",
      "[notice] To update, run: python.exe -m pip install --upgrade pip\n"
     ]
    },
    {
     "name": "stdout",
     "output_type": "stream",
     "text": [
      "Requirement already satisfied: numpy in c:\\users\\dell\\miniconda3\\lib\\site-packages (1.21.4)\n"
     ]
    },
    {
     "name": "stderr",
     "output_type": "stream",
     "text": [
      "\n",
      "[notice] A new release of pip available: 22.2.2 -> 22.3.1\n",
      "[notice] To update, run: python.exe -m pip install --upgrade pip\n"
     ]
    },
    {
     "name": "stdout",
     "output_type": "stream",
     "text": [
      "Requirement already satisfied: matplotlib in c:\\users\\dell\\miniconda3\\lib\\site-packages (3.5.3)\n",
      "Requirement already satisfied: numpy>=1.17 in c:\\users\\dell\\miniconda3\\lib\\site-packages (from matplotlib) (1.21.4)\n",
      "Requirement already satisfied: fonttools>=4.22.0 in c:\\users\\dell\\miniconda3\\lib\\site-packages (from matplotlib) (4.36.0)\n",
      "Requirement already satisfied: packaging>=20.0 in c:\\users\\dell\\miniconda3\\lib\\site-packages (from matplotlib) (21.3)\n",
      "Requirement already satisfied: cycler>=0.10 in c:\\users\\dell\\miniconda3\\lib\\site-packages (from matplotlib) (0.11.0)\n",
      "Requirement already satisfied: pillow>=6.2.0 in c:\\users\\dell\\miniconda3\\lib\\site-packages (from matplotlib) (9.2.0)\n",
      "Requirement already satisfied: kiwisolver>=1.0.1 in c:\\users\\dell\\miniconda3\\lib\\site-packages (from matplotlib) (1.4.4)\n",
      "Requirement already satisfied: pyparsing>=2.2.1 in c:\\users\\dell\\miniconda3\\lib\\site-packages (from matplotlib) (3.0.9)\n",
      "Requirement already satisfied: python-dateutil>=2.7 in c:\\users\\dell\\miniconda3\\lib\\site-packages (from matplotlib) (2.8.2)\n",
      "Requirement already satisfied: six>=1.5 in c:\\users\\dell\\miniconda3\\lib\\site-packages (from python-dateutil>=2.7->matplotlib) (1.16.0)\n"
     ]
    },
    {
     "name": "stderr",
     "output_type": "stream",
     "text": [
      "\n",
      "[notice] A new release of pip available: 22.2.2 -> 22.3.1\n",
      "[notice] To update, run: python.exe -m pip install --upgrade pip\n"
     ]
    }
   ],
   "source": [
    "!pip install pandas\n",
    "!pip install numpy\n",
    "!pip install matplotlib\n",
    "!pip install seaborn"
   ]
  },
  {
   "cell_type": "markdown",
   "id": "7769ae54",
   "metadata": {},
   "source": [
    "Once we have downloaded the packages to our computer, to use them in this Python notebook we must call them using the function 'import'. Notice I will change the name of this packages using 'as' to a smaller word so that I can call them later when we use their functions."
   ]
  },
  {
   "cell_type": "code",
   "execution_count": 1,
   "id": "61fed679",
   "metadata": {},
   "outputs": [],
   "source": [
    "import pandas as pd\n",
    "import numpy as np\n",
    "import matplotlib.pyplot as plt"
   ]
  },
  {
   "cell_type": "markdown",
   "id": "323f43ce",
   "metadata": {},
   "source": [
    "### Python as a Calculator, Local Variables and Local Strings"
   ]
  },
  {
   "cell_type": "code",
   "execution_count": 1,
   "id": "40422a11",
   "metadata": {},
   "outputs": [
    {
     "data": {
      "text/plain": [
       "4"
      ]
     },
     "execution_count": 1,
     "metadata": {},
     "output_type": "execute_result"
    }
   ],
   "source": [
    "2 + 2"
   ]
  },
  {
   "cell_type": "code",
   "execution_count": 2,
   "id": "899fe78a",
   "metadata": {},
   "outputs": [
    {
     "data": {
      "text/plain": [
       "0.625"
      ]
     },
     "execution_count": 2,
     "metadata": {},
     "output_type": "execute_result"
    }
   ],
   "source": [
    "5 / 8"
   ]
  },
  {
   "cell_type": "code",
   "execution_count": 3,
   "id": "7834b525",
   "metadata": {},
   "outputs": [
    {
     "data": {
      "text/plain": [
       "15"
      ]
     },
     "execution_count": 3,
     "metadata": {},
     "output_type": "execute_result"
    }
   ],
   "source": [
    "a = 5 \n",
    "b = 10 \n",
    "\n",
    "c = a + b\n",
    "print(c)"
   ]
  },
  {
   "cell_type": "code",
   "execution_count": 26,
   "id": "fbcfd421",
   "metadata": {},
   "outputs": [
    {
     "data": {
      "text/plain": [
       "'Hola Cómo estas?'"
      ]
     },
     "execution_count": 26,
     "metadata": {},
     "output_type": "execute_result"
    }
   ],
   "source": [
    "# Working with strings:\n",
    "b1 = 'Hola'\n",
    "b2 = 'Cómo estas?'\n",
    "\n",
    "b1 + ' ' + b2"
   ]
  },
  {
   "cell_type": "code",
   "execution_count": 27,
   "id": "7fee9f16",
   "metadata": {},
   "outputs": [
    {
     "name": "stdout",
     "output_type": "stream",
     "text": [
      "../../data/baseline/in/ ../../data/baseline/out/\n"
     ]
    }
   ],
   "source": [
    "# Useful when we want to work with relative paths:\n",
    "base = '../../data/baseline/'\n",
    "path_in = base + 'in/'\n",
    "path_out = base + 'out/'\n",
    "\n",
    "print(path_in, path_out)"
   ]
  },
  {
   "cell_type": "code",
   "execution_count": 29,
   "id": "f4ec93c8",
   "metadata": {},
   "outputs": [
    {
     "name": "stdout",
     "output_type": "stream",
     "text": [
      "../../data/baseline/Argentina/in/ ../../data/baseline/Mexico/out/\n"
     ]
    }
   ],
   "source": [
    "# We can also define a local variable and add it to a string using f'' (useful for loops)\n",
    "\n",
    "country1 = 'Argentina'\n",
    "country2 = 'Mexico'\n",
    "\n",
    "base = f'../../data/baseline/{country1}/'\n",
    "base2 = f'../../data/baseline/{country2}/'\n",
    "path_in = base + 'in/'\n",
    "path_out = base2 + 'out/'\n",
    "\n",
    "print(path_in, path_out)"
   ]
  },
  {
   "cell_type": "code",
   "execution_count": 12,
   "id": "6fc71082",
   "metadata": {},
   "outputs": [
    {
     "data": {
      "text/plain": [
       "[1, 2, 3, 8, 9, 10, 20]"
      ]
     },
     "execution_count": 12,
     "metadata": {},
     "output_type": "execute_result"
    }
   ],
   "source": [
    "a = [1, 2, 3, 8, 9, 10, 20]\n",
    "a"
   ]
  },
  {
   "cell_type": "code",
   "execution_count": 13,
   "id": "6d3f1cad",
   "metadata": {},
   "outputs": [
    {
     "data": {
      "text/plain": [
       "1"
      ]
     },
     "execution_count": 13,
     "metadata": {},
     "output_type": "execute_result"
    }
   ],
   "source": [
    "# Extracting position 0 from array a\n",
    "a[0]"
   ]
  },
  {
   "cell_type": "code",
   "execution_count": 14,
   "id": "9fb136b8",
   "metadata": {},
   "outputs": [
    {
     "data": {
      "text/plain": [
       "20"
      ]
     },
     "execution_count": 14,
     "metadata": {},
     "output_type": "execute_result"
    }
   ],
   "source": [
    "# Extracting the last position from array a\n",
    "a[-1]"
   ]
  },
  {
   "cell_type": "code",
   "execution_count": 1,
   "id": "f0e3d47a",
   "metadata": {},
   "outputs": [
    {
     "ename": "NameError",
     "evalue": "name 'a' is not defined",
     "output_type": "error",
     "traceback": [
      "\u001b[1;31m---------------------------------------------------------------------------\u001b[0m",
      "\u001b[1;31mNameError\u001b[0m                                 Traceback (most recent call last)",
      "Input \u001b[1;32mIn [1]\u001b[0m, in \u001b[0;36m<cell line: 2>\u001b[1;34m()\u001b[0m\n\u001b[0;32m      1\u001b[0m \u001b[38;5;66;03m# Subsetting arrays (lists) Notice it extracts a subset like this: [,)\u001b[39;00m\n\u001b[1;32m----> 2\u001b[0m b \u001b[38;5;241m=\u001b[39m \u001b[43ma\u001b[49m[\u001b[38;5;241m1\u001b[39m:\u001b[38;5;241m3\u001b[39m]\n\u001b[0;32m      3\u001b[0m b\n",
      "\u001b[1;31mNameError\u001b[0m: name 'a' is not defined"
     ]
    }
   ],
   "source": [
    "# Subsetting arrays (lists) Notice it extracts a subset like this: [,)\n",
    "b = a[1:3]\n",
    "b"
   ]
  },
  {
   "cell_type": "code",
   "execution_count": 2,
   "id": "aa4883f5",
   "metadata": {},
   "outputs": [
    {
     "name": "stdout",
     "output_type": "stream",
     "text": [
      "3 9\n"
     ]
    }
   ],
   "source": [
    "# Applying functions to lists:\n",
    "# Creating an array of integers with a certain range\n",
    "b = range(3,10) # Increments of 1\n",
    "c = range(3, 10, 2) # Increments of 2\n",
    "print(b[0], c[-1])"
   ]
  },
  {
   "cell_type": "code",
   "execution_count": 22,
   "id": "7715e42c",
   "metadata": {},
   "outputs": [
    {
     "name": "stdout",
     "output_type": "stream",
     "text": [
      "4 7\n"
     ]
    }
   ],
   "source": [
    "print(len(c), len(b))"
   ]
  },
  {
   "cell_type": "code",
   "execution_count": 23,
   "id": "2adb8d45",
   "metadata": {},
   "outputs": [
    {
     "name": "stdout",
     "output_type": "stream",
     "text": [
      "[1, 2, 3, 8, 9, 10, 20, 'Hola']\n"
     ]
    }
   ],
   "source": [
    "a.append('Hola')\n",
    "print(a)"
   ]
  },
  {
   "cell_type": "code",
   "execution_count": 24,
   "id": "a22d96e3",
   "metadata": {},
   "outputs": [
    {
     "name": "stdout",
     "output_type": "stream",
     "text": [
      "[1, 2, 3, 8, 9, 10, 20]\n"
     ]
    }
   ],
   "source": [
    "a.remove('Hola')\n",
    "print(a)"
   ]
  },
  {
   "cell_type": "markdown",
   "id": "d4186459",
   "metadata": {},
   "source": [
    "### Functions and For Loops "
   ]
  },
  {
   "cell_type": "markdown",
   "id": "93373155",
   "metadata": {},
   "source": [
    "To define a function we must use the following syntaxis:\n",
    "\n",
    "def function1(input1, input2, ..., inputn):\n",
    "    output1 = f(input1, ..., inputn)\n",
    "    output2 = f(output1, input1, ..., inputn)\n",
    "    .\n",
    "    .\n",
    "    . \n",
    "    outputn = f(output1, ..., output(n-1), input1, ..., inputn)\n",
    "    return output1, ..., outputn"
   ]
  },
  {
   "cell_type": "code",
   "execution_count": 34,
   "id": "9783d903",
   "metadata": {},
   "outputs": [
    {
     "name": "stdout",
     "output_type": "stream",
     "text": [
      "Hola cómo estas?\n"
     ]
    }
   ],
   "source": [
    "# Defining a function with a command so that Python executes it, in this case is the print command\n",
    "def my_first_function(word1, word2):\n",
    "    word = word1 + ' ' + word2\n",
    "    print(word)\n",
    "    \n",
    "a = my_first_function('Hola', 'cómo estas?')"
   ]
  },
  {
   "cell_type": "code",
   "execution_count": 36,
   "id": "6276154a",
   "metadata": {},
   "outputs": [
    {
     "name": "stdout",
     "output_type": "stream",
     "text": [
      "None\n"
     ]
    }
   ],
   "source": [
    "print(a)"
   ]
  },
  {
   "cell_type": "code",
   "execution_count": 37,
   "id": "583787ce",
   "metadata": {},
   "outputs": [
    {
     "name": "stdout",
     "output_type": "stream",
     "text": [
      "Hola cómo estas?\n"
     ]
    }
   ],
   "source": [
    "# If we want to generate another variable from the function, we must use the 'return' command at the end\n",
    "\n",
    "def my_second_function(word1, word2):\n",
    "    word = word1 + ' ' + word2\n",
    "    print(word)\n",
    "    return word\n",
    "    \n",
    "a = my_second_function('Hola', 'cómo estas?')"
   ]
  },
  {
   "cell_type": "code",
   "execution_count": 38,
   "id": "08528138",
   "metadata": {},
   "outputs": [
    {
     "name": "stdout",
     "output_type": "stream",
     "text": [
      "Hola cómo estas?\n"
     ]
    }
   ],
   "source": [
    "print(a)"
   ]
  },
  {
   "cell_type": "code",
   "execution_count": 39,
   "id": "4581141c",
   "metadata": {},
   "outputs": [
    {
     "name": "stdout",
     "output_type": "stream",
     "text": [
      "../../data/Argentina/baseline/ ../../data/Argentina/baseline/in/ ../../data/Argentina/baseline/out/\n"
     ]
    }
   ],
   "source": [
    "# We can feed any object to a function, lists, strings, numbers, data frames, and obtain several outputs as we will see \n",
    "# in this example. Recall that we wanted to generate paths that have the same structure but differ in one word (country).\n",
    "\n",
    "def get_path(country):\n",
    "    base = f'../../data/{country}/baseline/'\n",
    "    path_in = base + 'in/'\n",
    "    path_out = base + 'out/'\n",
    "    return base, path_in, path_out\n",
    "\n",
    "# If it returns n elements, you must save it in 3 locals\n",
    "\n",
    "base, path_in, path_out = get_path('Argentina')\n",
    "\n",
    "print(base, path_in, path_out)"
   ]
  },
  {
   "cell_type": "code",
   "execution_count": 40,
   "id": "97237ebe",
   "metadata": {},
   "outputs": [
    {
     "name": "stdout",
     "output_type": "stream",
     "text": [
      "1\n",
      "2\n",
      "3\n",
      "4\n",
      "5\n",
      "6\n",
      "7\n",
      "8\n",
      "9\n"
     ]
    }
   ],
   "source": [
    "# For loops are the most useful thing in Python, and their syntax is way easier than in R:\n",
    "\n",
    "for i in range(1, 10):\n",
    "    print(i)"
   ]
  },
  {
   "cell_type": "code",
   "execution_count": 41,
   "id": "bc1ca9fe",
   "metadata": {},
   "outputs": [
    {
     "name": "stdout",
     "output_type": "stream",
     "text": [
      "../../data/Arg/baseline/ ../../data/Arg/baseline/in/ ../../data/Arg/baseline/out/\n",
      "../../data/Mex/baseline/ ../../data/Mex/baseline/in/ ../../data/Mex/baseline/out/\n",
      "../../data/Col/baseline/ ../../data/Col/baseline/in/ ../../data/Col/baseline/out/\n"
     ]
    }
   ],
   "source": [
    "# We could loop through lists and use functions inside the loop:\n",
    "\n",
    "list_loop = ['Arg', 'Mex', 'Col']\n",
    "\n",
    "for country in list_loop:\n",
    "    base, path_in, path_out = get_path(country)\n",
    "    print(base, path_in, path_out)"
   ]
  },
  {
   "cell_type": "code",
   "execution_count": 3,
   "id": "bd8e1909",
   "metadata": {},
   "outputs": [
    {
     "name": "stdout",
     "output_type": "stream",
     "text": [
      "../../data/Arg/baseline/ ../../data/Arg/baseline/in/ ../../data/Arg/baseline/out/\n",
      "../../data/Arg/treatment/ ../../data/Arg/treatment/in/ ../../data/Arg/treatment/out/\n",
      "../../data/Mex/baseline/ ../../data/Mex/baseline/in/ ../../data/Mex/baseline/out/\n",
      "../../data/Mex/treatment/ ../../data/Mex/treatment/in/ ../../data/Mex/treatment/out/\n",
      "../../data/Col/baseline/ ../../data/Col/baseline/in/ ../../data/Col/baseline/out/\n",
      "../../data/Col/treatment/ ../../data/Col/treatment/in/ ../../data/Col/treatment/out/\n"
     ]
    }
   ],
   "source": [
    "# And most importantly, we can generate nested loops:\n",
    "\n",
    "list_loop = ['Arg', 'Mex', 'Col']\n",
    "type_of_data = ['baseline', 'treatment']\n",
    "\n",
    "def get_path2(country, type_d):\n",
    "    base = f'../../data/{country}/{type_d}/'\n",
    "    path_in = base + 'in/'\n",
    "    path_out = base + 'out/'\n",
    "    return base, path_in, path_out\n",
    "\n",
    "for country in list_loop:\n",
    "    for type_d in type_of_data:\n",
    "         base, path_in, path_out = get_path2(country, type_d)\n",
    "         print(base, path_in, path_out)"
   ]
  },
  {
   "cell_type": "code",
   "execution_count": 4,
   "id": "d96a1fe7",
   "metadata": {},
   "outputs": [
    {
     "name": "stdout",
     "output_type": "stream",
     "text": [
      "2 * 1 = 2\n",
      "2 * 2 = 4\n",
      "2 * 3 = 6\n",
      "2 * 4 = 8\n",
      "2 * 5 = 10\n",
      "2 * 6 = 12\n",
      "2 * 7 = 14\n",
      "2 * 8 = 16\n",
      "2 * 9 = 18\n",
      "2 * 10 = 20\n",
      "\n",
      "3 * 1 = 3\n",
      "3 * 2 = 6\n",
      "3 * 3 = 9\n",
      "3 * 4 = 12\n",
      "3 * 5 = 15\n",
      "3 * 6 = 18\n",
      "3 * 7 = 21\n",
      "3 * 8 = 24\n",
      "3 * 9 = 27\n",
      "3 * 10 = 30\n",
      "\n"
     ]
    }
   ],
   "source": [
    "# More Nested Loops:\n",
    "\n",
    "for i in range(2, 4):\n",
    "  \n",
    "    # Printing inside the outer loop\n",
    "    # Running inner loop from 1 to 10\n",
    "    for j in range(1, 11):\n",
    "  \n",
    "        # Printing inside the inner loop\n",
    "        print(i, \"*\", j, \"=\", i*j)\n",
    "    # Printing inside the outer loop\n",
    "    print()"
   ]
  },
  {
   "cell_type": "code",
   "execution_count": 5,
   "id": "b66e02e3",
   "metadata": {},
   "outputs": [
    {
     "name": "stdout",
     "output_type": "stream",
     "text": [
      "start outer for loop \n",
      "I am  healthy\n",
      "I am  fine\n",
      "I am  geek\n",
      "end for loop \n",
      "start outer for loop \n",
      "You are  healthy\n",
      "You are  fine\n",
      "You are  geek\n",
      "end for loop \n"
     ]
    }
   ],
   "source": [
    "# Initialize list1 and list2\n",
    "# with some strings\n",
    "list1 = ['I am ', 'You are ']\n",
    "list2 = ['healthy', 'fine', 'geek']\n",
    "  \n",
    "# Store length of list2 in list2_size\n",
    "list2_size = len(list2)\n",
    "  \n",
    "# Running outer for loop to\n",
    "# iterate through a list1.\n",
    "for item in list1:\n",
    "    \n",
    "    # Printing outside inner loop\n",
    "    print(\"start outer for loop \")\n",
    "    # Initialize counter i with 0\n",
    "    i = 0\n",
    "    # Running inner While loop to\n",
    "    # iterate through a list2.\n",
    "    while(i < list2_size):\n",
    "        \n",
    "        # Printing inside inner loop\n",
    "        print(item, list2[i])\n",
    "        # Incrementing the value of i\n",
    "        i = i+1\n",
    "    # Printing outside inner loop\n",
    "    print(\"end for loop \")"
   ]
  },
  {
   "cell_type": "markdown",
   "id": "96f3c754",
   "metadata": {},
   "source": [
    "### Importing and Exporting Data using pandas"
   ]
  },
  {
   "cell_type": "code",
   "execution_count": 9,
   "id": "4eb89a74",
   "metadata": {},
   "outputs": [
    {
     "data": {
      "text/html": [
       "<div>\n",
       "<style scoped>\n",
       "    .dataframe tbody tr th:only-of-type {\n",
       "        vertical-align: middle;\n",
       "    }\n",
       "\n",
       "    .dataframe tbody tr th {\n",
       "        vertical-align: top;\n",
       "    }\n",
       "\n",
       "    .dataframe thead th {\n",
       "        text-align: right;\n",
       "    }\n",
       "</style>\n",
       "<table border=\"1\" class=\"dataframe\">\n",
       "  <thead>\n",
       "    <tr style=\"text-align: right;\">\n",
       "      <th></th>\n",
       "      <th>twitter_handle</th>\n",
       "      <th>text</th>\n",
       "      <th>possibly_sensitive</th>\n",
       "      <th>date</th>\n",
       "      <th>date_consulted</th>\n",
       "      <th>like_count</th>\n",
       "      <th>quote_count</th>\n",
       "      <th>reply_count</th>\n",
       "      <th>retweet_count</th>\n",
       "      <th>url</th>\n",
       "      <th>total_interactions</th>\n",
       "      <th>treatment</th>\n",
       "    </tr>\n",
       "  </thead>\n",
       "  <tbody>\n",
       "    <tr>\n",
       "      <th>0</th>\n",
       "      <td>BashirAhmaad</td>\n",
       "      <td>RT @francefootball: KARIM BENZEMA IS THE 2022 ...</td>\n",
       "      <td>False</td>\n",
       "      <td>2022-10-17T20:00:02.000Z</td>\n",
       "      <td>2022-10-17</td>\n",
       "      <td>0</td>\n",
       "      <td>0</td>\n",
       "      <td>0</td>\n",
       "      <td>65106</td>\n",
       "      <td>https://twitter.com/BashirAhmaad/status/158209...</td>\n",
       "      <td>65106</td>\n",
       "      <td>1</td>\n",
       "    </tr>\n",
       "    <tr>\n",
       "      <th>1</th>\n",
       "      <td>LandNoli</td>\n",
       "      <td>RT @wikileaks: Julian Assange speaking in 2011...</td>\n",
       "      <td>False</td>\n",
       "      <td>2022-10-17T04:22:35.000Z</td>\n",
       "      <td>2022-10-17</td>\n",
       "      <td>0</td>\n",
       "      <td>0</td>\n",
       "      <td>0</td>\n",
       "      <td>57220</td>\n",
       "      <td>https://twitter.com/LandNoli/status/1581863218...</td>\n",
       "      <td>57220</td>\n",
       "      <td>0</td>\n",
       "    </tr>\n",
       "    <tr>\n",
       "      <th>2</th>\n",
       "      <td>SphilileNxumalo</td>\n",
       "      <td>RT @michaelb4jordan: 3/3/23 #creed3 https://t....</td>\n",
       "      <td>True</td>\n",
       "      <td>2022-10-17T13:57:54.000Z</td>\n",
       "      <td>2022-10-17</td>\n",
       "      <td>0</td>\n",
       "      <td>0</td>\n",
       "      <td>0</td>\n",
       "      <td>47678</td>\n",
       "      <td>https://twitter.com/SphilileNxumalo/status/158...</td>\n",
       "      <td>47678</td>\n",
       "      <td>1</td>\n",
       "    </tr>\n",
       "    <tr>\n",
       "      <th>3</th>\n",
       "      <td>coolfrancess</td>\n",
       "      <td>RT @dipo_smart: The person he’s proposing to i...</td>\n",
       "      <td>False</td>\n",
       "      <td>2022-10-17T06:43:38.000Z</td>\n",
       "      <td>2022-10-17</td>\n",
       "      <td>0</td>\n",
       "      <td>0</td>\n",
       "      <td>0</td>\n",
       "      <td>22621</td>\n",
       "      <td>https://twitter.com/coolfrancess/status/158189...</td>\n",
       "      <td>22621</td>\n",
       "      <td>0</td>\n",
       "    </tr>\n",
       "    <tr>\n",
       "      <th>4</th>\n",
       "      <td>MbuyiseniNdlozi</td>\n",
       "      <td>RT @dipo_smart: The person he’s proposing to i...</td>\n",
       "      <td>False</td>\n",
       "      <td>2022-10-17T07:22:18.000Z</td>\n",
       "      <td>2022-10-17</td>\n",
       "      <td>0</td>\n",
       "      <td>0</td>\n",
       "      <td>0</td>\n",
       "      <td>22621</td>\n",
       "      <td>https://twitter.com/MbuyiseniNdlozi/status/158...</td>\n",
       "      <td>22621</td>\n",
       "      <td>1</td>\n",
       "    </tr>\n",
       "  </tbody>\n",
       "</table>\n",
       "</div>"
      ],
      "text/plain": [
       "    twitter_handle                                               text  \\\n",
       "0     BashirAhmaad  RT @francefootball: KARIM BENZEMA IS THE 2022 ...   \n",
       "1         LandNoli  RT @wikileaks: Julian Assange speaking in 2011...   \n",
       "2  SphilileNxumalo  RT @michaelb4jordan: 3/3/23 #creed3 https://t....   \n",
       "3     coolfrancess  RT @dipo_smart: The person he’s proposing to i...   \n",
       "4  MbuyiseniNdlozi  RT @dipo_smart: The person he’s proposing to i...   \n",
       "\n",
       "   possibly_sensitive                      date date_consulted  like_count  \\\n",
       "0               False  2022-10-17T20:00:02.000Z     2022-10-17           0   \n",
       "1               False  2022-10-17T04:22:35.000Z     2022-10-17           0   \n",
       "2                True  2022-10-17T13:57:54.000Z     2022-10-17           0   \n",
       "3               False  2022-10-17T06:43:38.000Z     2022-10-17           0   \n",
       "4               False  2022-10-17T07:22:18.000Z     2022-10-17           0   \n",
       "\n",
       "   quote_count  reply_count  retweet_count  \\\n",
       "0            0            0          65106   \n",
       "1            0            0          57220   \n",
       "2            0            0          47678   \n",
       "3            0            0          22621   \n",
       "4            0            0          22621   \n",
       "\n",
       "                                                 url  total_interactions  \\\n",
       "0  https://twitter.com/BashirAhmaad/status/158209...               65106   \n",
       "1  https://twitter.com/LandNoli/status/1581863218...               57220   \n",
       "2  https://twitter.com/SphilileNxumalo/status/158...               47678   \n",
       "3  https://twitter.com/coolfrancess/status/158189...               22621   \n",
       "4  https://twitter.com/MbuyiseniNdlozi/status/158...               22621   \n",
       "\n",
       "   treatment  \n",
       "0          1  \n",
       "1          0  \n",
       "2          1  \n",
       "3          0  \n",
       "4          1  "
      ]
     },
     "execution_count": 9,
     "metadata": {},
     "output_type": "execute_result"
    }
   ],
   "source": [
    "# Notice we have already imported the pandas package as pd, so to import data we can just use the functions available.\n",
    "# We start using pandas data frames\n",
    "\n",
    "df1 = pd.read_excel('../data/twitter.xlsx') # Notice we are using relative paths with respect to where the Notebook is saved\n",
    "\n",
    "# We can visualize it:\n",
    "df1.head()"
   ]
  },
  {
   "cell_type": "code",
   "execution_count": 11,
   "id": "204d4f2b",
   "metadata": {},
   "outputs": [
    {
     "name": "stdout",
     "output_type": "stream",
     "text": [
      "Directory  ../data/out/  created \n"
     ]
    }
   ],
   "source": [
    "# To generate the output file (in this case the same one, we can use pandas again and other function to create the folder)\n",
    "import os # for folder/path manipulation\n",
    "\n",
    "# Function to create folders using os:\n",
    "def create_folder(directory):\n",
    "    \"\"\"Create folder\"\"\"\n",
    "    # Create target Directory if don't exist\n",
    "    if not os.path.exists(directory):\n",
    "        os.mkdir(directory)\n",
    "        print(\"Directory \", directory, \" created \")\n",
    "    else:\n",
    "        print(\"Directory \", directory, \" already exists\")\n",
    "        \n",
    "create_folder('../data/out/')\n",
    "\n",
    "df1.to_parquet('../data/out/twitter.parquet.gzip')"
   ]
  },
  {
   "cell_type": "code",
   "execution_count": 14,
   "id": "5886176c",
   "metadata": {},
   "outputs": [
    {
     "name": "stdout",
     "output_type": "stream",
     "text": [
      "Directory  ../data/batch1/  already exists\n",
      "Done\n",
      "Directory  ../data/batch2/  already exists\n",
      "Done\n"
     ]
    }
   ],
   "source": [
    "# We can loop through the folders and generate new 'out folders' (we are not modifying anything yet)\n",
    "\n",
    "for i in range(1, 3):\n",
    "    folder_out = f'../data/batch{i}/'\n",
    "    create_folder(folder_out)\n",
    "    for e in range(1, 4):\n",
    "        df = pd.read_excel(f'../data/batch{i}/info{e}.xlsx')\n",
    "        df.to_parquet(f'{folder_out}info{e}.parquet.gzip')\n",
    "    print('Done')"
   ]
  },
  {
   "cell_type": "markdown",
   "id": "fd8cfffa",
   "metadata": {},
   "source": [
    "### Manipulating Data Frames using Pandas and Numpy"
   ]
  },
  {
   "cell_type": "code",
   "execution_count": 54,
   "id": "df322dc0",
   "metadata": {},
   "outputs": [
    {
     "name": "stdout",
     "output_type": "stream",
     "text": [
      "<class 'pandas.core.frame.DataFrame'>\n",
      "RangeIndex: 179 entries, 0 to 178\n",
      "Data columns (total 12 columns):\n",
      " #   Column              Non-Null Count  Dtype \n",
      "---  ------              --------------  ----- \n",
      " 0   twitter_handle      179 non-null    object\n",
      " 1   text                179 non-null    object\n",
      " 2   possibly_sensitive  179 non-null    bool  \n",
      " 3   date                179 non-null    object\n",
      " 4   date_consulted      179 non-null    object\n",
      " 5   like_count          179 non-null    int64 \n",
      " 6   quote_count         179 non-null    int64 \n",
      " 7   reply_count         179 non-null    int64 \n",
      " 8   retweet_count       179 non-null    int64 \n",
      " 9   url                 179 non-null    object\n",
      " 10  total_interactions  179 non-null    int64 \n",
      " 11  treatment           179 non-null    int64 \n",
      "dtypes: bool(1), int64(6), object(5)\n",
      "memory usage: 15.7+ KB\n"
     ]
    }
   ],
   "source": [
    "# We'll start manipulating data frames using the pandas package:\n",
    "\n",
    "# Importing the data: \n",
    "df = pd.read_excel(f'../data/twitter.xlsx')\n",
    "\n",
    "df.info()"
   ]
  },
  {
   "cell_type": "code",
   "execution_count": 55,
   "id": "fdd6f175",
   "metadata": {},
   "outputs": [
    {
     "data": {
      "text/html": [
       "<div>\n",
       "<style scoped>\n",
       "    .dataframe tbody tr th:only-of-type {\n",
       "        vertical-align: middle;\n",
       "    }\n",
       "\n",
       "    .dataframe tbody tr th {\n",
       "        vertical-align: top;\n",
       "    }\n",
       "\n",
       "    .dataframe thead th {\n",
       "        text-align: right;\n",
       "    }\n",
       "</style>\n",
       "<table border=\"1\" class=\"dataframe\">\n",
       "  <thead>\n",
       "    <tr style=\"text-align: right;\">\n",
       "      <th></th>\n",
       "      <th>twitter_handle</th>\n",
       "      <th>text</th>\n",
       "      <th>possibly_sensitive</th>\n",
       "      <th>date</th>\n",
       "      <th>date_consulted</th>\n",
       "      <th>like_count</th>\n",
       "      <th>quote_count</th>\n",
       "      <th>reply_count</th>\n",
       "      <th>retweet_count</th>\n",
       "      <th>url</th>\n",
       "      <th>total_interactions</th>\n",
       "      <th>treatment</th>\n",
       "    </tr>\n",
       "  </thead>\n",
       "  <tbody>\n",
       "    <tr>\n",
       "      <th>0</th>\n",
       "      <td>BashirAhmaad</td>\n",
       "      <td>RT @francefootball: KARIM BENZEMA IS THE 2022 ...</td>\n",
       "      <td>False</td>\n",
       "      <td>2022-10-17T20:00:02.000Z</td>\n",
       "      <td>2022-10-17</td>\n",
       "      <td>0</td>\n",
       "      <td>0</td>\n",
       "      <td>0</td>\n",
       "      <td>65106</td>\n",
       "      <td>https://twitter.com/BashirAhmaad/status/158209...</td>\n",
       "      <td>65106</td>\n",
       "      <td>1</td>\n",
       "    </tr>\n",
       "    <tr>\n",
       "      <th>1</th>\n",
       "      <td>LandNoli</td>\n",
       "      <td>RT @wikileaks: Julian Assange speaking in 2011...</td>\n",
       "      <td>False</td>\n",
       "      <td>2022-10-17T04:22:35.000Z</td>\n",
       "      <td>2022-10-17</td>\n",
       "      <td>0</td>\n",
       "      <td>0</td>\n",
       "      <td>0</td>\n",
       "      <td>57220</td>\n",
       "      <td>https://twitter.com/LandNoli/status/1581863218...</td>\n",
       "      <td>57220</td>\n",
       "      <td>0</td>\n",
       "    </tr>\n",
       "    <tr>\n",
       "      <th>2</th>\n",
       "      <td>SphilileNxumalo</td>\n",
       "      <td>RT @michaelb4jordan: 3/3/23 #creed3 https://t....</td>\n",
       "      <td>True</td>\n",
       "      <td>2022-10-17T13:57:54.000Z</td>\n",
       "      <td>2022-10-17</td>\n",
       "      <td>0</td>\n",
       "      <td>0</td>\n",
       "      <td>0</td>\n",
       "      <td>47678</td>\n",
       "      <td>https://twitter.com/SphilileNxumalo/status/158...</td>\n",
       "      <td>47678</td>\n",
       "      <td>1</td>\n",
       "    </tr>\n",
       "    <tr>\n",
       "      <th>3</th>\n",
       "      <td>coolfrancess</td>\n",
       "      <td>RT @dipo_smart: The person he’s proposing to i...</td>\n",
       "      <td>False</td>\n",
       "      <td>2022-10-17T06:43:38.000Z</td>\n",
       "      <td>2022-10-17</td>\n",
       "      <td>0</td>\n",
       "      <td>0</td>\n",
       "      <td>0</td>\n",
       "      <td>22621</td>\n",
       "      <td>https://twitter.com/coolfrancess/status/158189...</td>\n",
       "      <td>22621</td>\n",
       "      <td>0</td>\n",
       "    </tr>\n",
       "    <tr>\n",
       "      <th>4</th>\n",
       "      <td>MbuyiseniNdlozi</td>\n",
       "      <td>RT @dipo_smart: The person he’s proposing to i...</td>\n",
       "      <td>False</td>\n",
       "      <td>2022-10-17T07:22:18.000Z</td>\n",
       "      <td>2022-10-17</td>\n",
       "      <td>0</td>\n",
       "      <td>0</td>\n",
       "      <td>0</td>\n",
       "      <td>22621</td>\n",
       "      <td>https://twitter.com/MbuyiseniNdlozi/status/158...</td>\n",
       "      <td>22621</td>\n",
       "      <td>1</td>\n",
       "    </tr>\n",
       "  </tbody>\n",
       "</table>\n",
       "</div>"
      ],
      "text/plain": [
       "    twitter_handle                                               text  \\\n",
       "0     BashirAhmaad  RT @francefootball: KARIM BENZEMA IS THE 2022 ...   \n",
       "1         LandNoli  RT @wikileaks: Julian Assange speaking in 2011...   \n",
       "2  SphilileNxumalo  RT @michaelb4jordan: 3/3/23 #creed3 https://t....   \n",
       "3     coolfrancess  RT @dipo_smart: The person he’s proposing to i...   \n",
       "4  MbuyiseniNdlozi  RT @dipo_smart: The person he’s proposing to i...   \n",
       "\n",
       "   possibly_sensitive                      date date_consulted  like_count  \\\n",
       "0               False  2022-10-17T20:00:02.000Z     2022-10-17           0   \n",
       "1               False  2022-10-17T04:22:35.000Z     2022-10-17           0   \n",
       "2                True  2022-10-17T13:57:54.000Z     2022-10-17           0   \n",
       "3               False  2022-10-17T06:43:38.000Z     2022-10-17           0   \n",
       "4               False  2022-10-17T07:22:18.000Z     2022-10-17           0   \n",
       "\n",
       "   quote_count  reply_count  retweet_count  \\\n",
       "0            0            0          65106   \n",
       "1            0            0          57220   \n",
       "2            0            0          47678   \n",
       "3            0            0          22621   \n",
       "4            0            0          22621   \n",
       "\n",
       "                                                 url  total_interactions  \\\n",
       "0  https://twitter.com/BashirAhmaad/status/158209...               65106   \n",
       "1  https://twitter.com/LandNoli/status/1581863218...               57220   \n",
       "2  https://twitter.com/SphilileNxumalo/status/158...               47678   \n",
       "3  https://twitter.com/coolfrancess/status/158189...               22621   \n",
       "4  https://twitter.com/MbuyiseniNdlozi/status/158...               22621   \n",
       "\n",
       "   treatment  \n",
       "0          1  \n",
       "1          0  \n",
       "2          1  \n",
       "3          0  \n",
       "4          1  "
      ]
     },
     "execution_count": 55,
     "metadata": {},
     "output_type": "execute_result"
    }
   ],
   "source": [
    "# We can visualize the first rows of the data frame using:\n",
    "df.head()"
   ]
  },
  {
   "cell_type": "code",
   "execution_count": 56,
   "id": "2a598099",
   "metadata": {},
   "outputs": [
    {
     "data": {
      "text/html": [
       "<div>\n",
       "<style scoped>\n",
       "    .dataframe tbody tr th:only-of-type {\n",
       "        vertical-align: middle;\n",
       "    }\n",
       "\n",
       "    .dataframe tbody tr th {\n",
       "        vertical-align: top;\n",
       "    }\n",
       "\n",
       "    .dataframe thead th {\n",
       "        text-align: right;\n",
       "    }\n",
       "</style>\n",
       "<table border=\"1\" class=\"dataframe\">\n",
       "  <thead>\n",
       "    <tr style=\"text-align: right;\">\n",
       "      <th></th>\n",
       "      <th>username</th>\n",
       "      <th>text</th>\n",
       "      <th>sensitive</th>\n",
       "      <th>date</th>\n",
       "      <th>date_consulted</th>\n",
       "      <th>like_count</th>\n",
       "      <th>quote_count</th>\n",
       "      <th>reply_count</th>\n",
       "      <th>retweet_count</th>\n",
       "      <th>url</th>\n",
       "      <th>total_interactions</th>\n",
       "      <th>treatment</th>\n",
       "    </tr>\n",
       "  </thead>\n",
       "  <tbody>\n",
       "    <tr>\n",
       "      <th>0</th>\n",
       "      <td>BashirAhmaad</td>\n",
       "      <td>RT @francefootball: KARIM BENZEMA IS THE 2022 ...</td>\n",
       "      <td>False</td>\n",
       "      <td>2022-10-17T20:00:02.000Z</td>\n",
       "      <td>2022-10-17</td>\n",
       "      <td>0</td>\n",
       "      <td>0</td>\n",
       "      <td>0</td>\n",
       "      <td>65106</td>\n",
       "      <td>https://twitter.com/BashirAhmaad/status/158209...</td>\n",
       "      <td>65106</td>\n",
       "      <td>1</td>\n",
       "    </tr>\n",
       "    <tr>\n",
       "      <th>1</th>\n",
       "      <td>LandNoli</td>\n",
       "      <td>RT @wikileaks: Julian Assange speaking in 2011...</td>\n",
       "      <td>False</td>\n",
       "      <td>2022-10-17T04:22:35.000Z</td>\n",
       "      <td>2022-10-17</td>\n",
       "      <td>0</td>\n",
       "      <td>0</td>\n",
       "      <td>0</td>\n",
       "      <td>57220</td>\n",
       "      <td>https://twitter.com/LandNoli/status/1581863218...</td>\n",
       "      <td>57220</td>\n",
       "      <td>0</td>\n",
       "    </tr>\n",
       "    <tr>\n",
       "      <th>2</th>\n",
       "      <td>SphilileNxumalo</td>\n",
       "      <td>RT @michaelb4jordan: 3/3/23 #creed3 https://t....</td>\n",
       "      <td>True</td>\n",
       "      <td>2022-10-17T13:57:54.000Z</td>\n",
       "      <td>2022-10-17</td>\n",
       "      <td>0</td>\n",
       "      <td>0</td>\n",
       "      <td>0</td>\n",
       "      <td>47678</td>\n",
       "      <td>https://twitter.com/SphilileNxumalo/status/158...</td>\n",
       "      <td>47678</td>\n",
       "      <td>1</td>\n",
       "    </tr>\n",
       "    <tr>\n",
       "      <th>3</th>\n",
       "      <td>coolfrancess</td>\n",
       "      <td>RT @dipo_smart: The person he’s proposing to i...</td>\n",
       "      <td>False</td>\n",
       "      <td>2022-10-17T06:43:38.000Z</td>\n",
       "      <td>2022-10-17</td>\n",
       "      <td>0</td>\n",
       "      <td>0</td>\n",
       "      <td>0</td>\n",
       "      <td>22621</td>\n",
       "      <td>https://twitter.com/coolfrancess/status/158189...</td>\n",
       "      <td>22621</td>\n",
       "      <td>0</td>\n",
       "    </tr>\n",
       "    <tr>\n",
       "      <th>4</th>\n",
       "      <td>MbuyiseniNdlozi</td>\n",
       "      <td>RT @dipo_smart: The person he’s proposing to i...</td>\n",
       "      <td>False</td>\n",
       "      <td>2022-10-17T07:22:18.000Z</td>\n",
       "      <td>2022-10-17</td>\n",
       "      <td>0</td>\n",
       "      <td>0</td>\n",
       "      <td>0</td>\n",
       "      <td>22621</td>\n",
       "      <td>https://twitter.com/MbuyiseniNdlozi/status/158...</td>\n",
       "      <td>22621</td>\n",
       "      <td>1</td>\n",
       "    </tr>\n",
       "  </tbody>\n",
       "</table>\n",
       "</div>"
      ],
      "text/plain": [
       "          username                                               text  \\\n",
       "0     BashirAhmaad  RT @francefootball: KARIM BENZEMA IS THE 2022 ...   \n",
       "1         LandNoli  RT @wikileaks: Julian Assange speaking in 2011...   \n",
       "2  SphilileNxumalo  RT @michaelb4jordan: 3/3/23 #creed3 https://t....   \n",
       "3     coolfrancess  RT @dipo_smart: The person he’s proposing to i...   \n",
       "4  MbuyiseniNdlozi  RT @dipo_smart: The person he’s proposing to i...   \n",
       "\n",
       "   sensitive                      date date_consulted  like_count  \\\n",
       "0      False  2022-10-17T20:00:02.000Z     2022-10-17           0   \n",
       "1      False  2022-10-17T04:22:35.000Z     2022-10-17           0   \n",
       "2       True  2022-10-17T13:57:54.000Z     2022-10-17           0   \n",
       "3      False  2022-10-17T06:43:38.000Z     2022-10-17           0   \n",
       "4      False  2022-10-17T07:22:18.000Z     2022-10-17           0   \n",
       "\n",
       "   quote_count  reply_count  retweet_count  \\\n",
       "0            0            0          65106   \n",
       "1            0            0          57220   \n",
       "2            0            0          47678   \n",
       "3            0            0          22621   \n",
       "4            0            0          22621   \n",
       "\n",
       "                                                 url  total_interactions  \\\n",
       "0  https://twitter.com/BashirAhmaad/status/158209...               65106   \n",
       "1  https://twitter.com/LandNoli/status/1581863218...               57220   \n",
       "2  https://twitter.com/SphilileNxumalo/status/158...               47678   \n",
       "3  https://twitter.com/coolfrancess/status/158189...               22621   \n",
       "4  https://twitter.com/MbuyiseniNdlozi/status/158...               22621   \n",
       "\n",
       "   treatment  \n",
       "0          1  \n",
       "1          0  \n",
       "2          1  \n",
       "3          0  \n",
       "4          1  "
      ]
     },
     "execution_count": 56,
     "metadata": {},
     "output_type": "execute_result"
    }
   ],
   "source": [
    "# Basic Functions: renaming, dropping, keeping, creating\n",
    "\n",
    "# Renaming:\n",
    "df.rename({'twitter_handle': 'username', 'possibly_sensitive': 'sensitive'}, axis=1, inplace=True)\n",
    "\n",
    "df.head()"
   ]
  },
  {
   "cell_type": "code",
   "execution_count": 21,
   "id": "97df1632",
   "metadata": {},
   "outputs": [
    {
     "data": {
      "text/html": [
       "<div>\n",
       "<style scoped>\n",
       "    .dataframe tbody tr th:only-of-type {\n",
       "        vertical-align: middle;\n",
       "    }\n",
       "\n",
       "    .dataframe tbody tr th {\n",
       "        vertical-align: top;\n",
       "    }\n",
       "\n",
       "    .dataframe thead th {\n",
       "        text-align: right;\n",
       "    }\n",
       "</style>\n",
       "<table border=\"1\" class=\"dataframe\">\n",
       "  <thead>\n",
       "    <tr style=\"text-align: right;\">\n",
       "      <th></th>\n",
       "      <th>username</th>\n",
       "      <th>date</th>\n",
       "      <th>treatment</th>\n",
       "    </tr>\n",
       "  </thead>\n",
       "  <tbody>\n",
       "    <tr>\n",
       "      <th>0</th>\n",
       "      <td>BashirAhmaad</td>\n",
       "      <td>2022-10-17T20:00:02.000Z</td>\n",
       "      <td>1</td>\n",
       "    </tr>\n",
       "    <tr>\n",
       "      <th>1</th>\n",
       "      <td>LandNoli</td>\n",
       "      <td>2022-10-17T04:22:35.000Z</td>\n",
       "      <td>0</td>\n",
       "    </tr>\n",
       "    <tr>\n",
       "      <th>2</th>\n",
       "      <td>SphilileNxumalo</td>\n",
       "      <td>2022-10-17T13:57:54.000Z</td>\n",
       "      <td>1</td>\n",
       "    </tr>\n",
       "    <tr>\n",
       "      <th>3</th>\n",
       "      <td>coolfrancess</td>\n",
       "      <td>2022-10-17T06:43:38.000Z</td>\n",
       "      <td>0</td>\n",
       "    </tr>\n",
       "    <tr>\n",
       "      <th>4</th>\n",
       "      <td>MbuyiseniNdlozi</td>\n",
       "      <td>2022-10-17T07:22:18.000Z</td>\n",
       "      <td>1</td>\n",
       "    </tr>\n",
       "  </tbody>\n",
       "</table>\n",
       "</div>"
      ],
      "text/plain": [
       "          username                      date  treatment\n",
       "0     BashirAhmaad  2022-10-17T20:00:02.000Z          1\n",
       "1         LandNoli  2022-10-17T04:22:35.000Z          0\n",
       "2  SphilileNxumalo  2022-10-17T13:57:54.000Z          1\n",
       "3     coolfrancess  2022-10-17T06:43:38.000Z          0\n",
       "4  MbuyiseniNdlozi  2022-10-17T07:22:18.000Z          1"
      ]
     },
     "execution_count": 21,
     "metadata": {},
     "output_type": "execute_result"
    }
   ],
   "source": [
    "# Selecting variables:\n",
    "list_vars = ['username', 'date', 'treatment']\n",
    "\n",
    "df_info = df[list_vars]\n",
    "df_info.head()"
   ]
  },
  {
   "cell_type": "code",
   "execution_count": 30,
   "id": "e0cf9570",
   "metadata": {},
   "outputs": [
    {
     "data": {
      "text/html": [
       "<div>\n",
       "<style scoped>\n",
       "    .dataframe tbody tr th:only-of-type {\n",
       "        vertical-align: middle;\n",
       "    }\n",
       "\n",
       "    .dataframe tbody tr th {\n",
       "        vertical-align: top;\n",
       "    }\n",
       "\n",
       "    .dataframe thead th {\n",
       "        text-align: right;\n",
       "    }\n",
       "</style>\n",
       "<table border=\"1\" class=\"dataframe\">\n",
       "  <thead>\n",
       "    <tr style=\"text-align: right;\">\n",
       "      <th></th>\n",
       "      <th>date</th>\n",
       "      <th>treatment</th>\n",
       "    </tr>\n",
       "  </thead>\n",
       "  <tbody>\n",
       "    <tr>\n",
       "      <th>0</th>\n",
       "      <td>2022-10-17T20:00:02.000Z</td>\n",
       "      <td>1</td>\n",
       "    </tr>\n",
       "    <tr>\n",
       "      <th>1</th>\n",
       "      <td>2022-10-17T04:22:35.000Z</td>\n",
       "      <td>0</td>\n",
       "    </tr>\n",
       "    <tr>\n",
       "      <th>2</th>\n",
       "      <td>2022-10-17T13:57:54.000Z</td>\n",
       "      <td>1</td>\n",
       "    </tr>\n",
       "    <tr>\n",
       "      <th>3</th>\n",
       "      <td>2022-10-17T06:43:38.000Z</td>\n",
       "      <td>0</td>\n",
       "    </tr>\n",
       "    <tr>\n",
       "      <th>4</th>\n",
       "      <td>2022-10-17T07:22:18.000Z</td>\n",
       "      <td>1</td>\n",
       "    </tr>\n",
       "  </tbody>\n",
       "</table>\n",
       "</div>"
      ],
      "text/plain": [
       "                       date  treatment\n",
       "0  2022-10-17T20:00:02.000Z          1\n",
       "1  2022-10-17T04:22:35.000Z          0\n",
       "2  2022-10-17T13:57:54.000Z          1\n",
       "3  2022-10-17T06:43:38.000Z          0\n",
       "4  2022-10-17T07:22:18.000Z          1"
      ]
     },
     "execution_count": 30,
     "metadata": {},
     "output_type": "execute_result"
    }
   ],
   "source": [
    "# Dropping variables:\n",
    "\n",
    "df_date = df_info.drop(['username'], axis='columns')\n",
    "\n",
    "df_date.head()"
   ]
  },
  {
   "cell_type": "code",
   "execution_count": 36,
   "id": "8e1049cc",
   "metadata": {},
   "outputs": [
    {
     "data": {
      "text/html": [
       "<div>\n",
       "<style scoped>\n",
       "    .dataframe tbody tr th:only-of-type {\n",
       "        vertical-align: middle;\n",
       "    }\n",
       "\n",
       "    .dataframe tbody tr th {\n",
       "        vertical-align: top;\n",
       "    }\n",
       "\n",
       "    .dataframe thead th {\n",
       "        text-align: right;\n",
       "    }\n",
       "</style>\n",
       "<table border=\"1\" class=\"dataframe\">\n",
       "  <thead>\n",
       "    <tr style=\"text-align: right;\">\n",
       "      <th></th>\n",
       "      <th>username</th>\n",
       "      <th>text</th>\n",
       "      <th>sensitive</th>\n",
       "      <th>date</th>\n",
       "      <th>date_consulted</th>\n",
       "      <th>like_count</th>\n",
       "      <th>quote_count</th>\n",
       "      <th>reply_count</th>\n",
       "      <th>retweet_count</th>\n",
       "      <th>url</th>\n",
       "      <th>total_interactions</th>\n",
       "      <th>treatment</th>\n",
       "      <th>int_divided</th>\n",
       "      <th>total_ints_2</th>\n",
       "      <th>pairs</th>\n",
       "    </tr>\n",
       "  </thead>\n",
       "  <tbody>\n",
       "    <tr>\n",
       "      <th>0</th>\n",
       "      <td>BashirAhmaad</td>\n",
       "      <td>RT @francefootball: KARIM BENZEMA IS THE 2022 ...</td>\n",
       "      <td>False</td>\n",
       "      <td>2022-10-17T20:00:02.000Z</td>\n",
       "      <td>2022-10-17</td>\n",
       "      <td>0</td>\n",
       "      <td>0</td>\n",
       "      <td>0</td>\n",
       "      <td>65106</td>\n",
       "      <td>https://twitter.com/BashirAhmaad/status/158209...</td>\n",
       "      <td>65106</td>\n",
       "      <td>1</td>\n",
       "      <td>32553.0</td>\n",
       "      <td>65106</td>\n",
       "      <td>1.0</td>\n",
       "    </tr>\n",
       "    <tr>\n",
       "      <th>1</th>\n",
       "      <td>LandNoli</td>\n",
       "      <td>RT @wikileaks: Julian Assange speaking in 2011...</td>\n",
       "      <td>False</td>\n",
       "      <td>2022-10-17T04:22:35.000Z</td>\n",
       "      <td>2022-10-17</td>\n",
       "      <td>0</td>\n",
       "      <td>0</td>\n",
       "      <td>0</td>\n",
       "      <td>57220</td>\n",
       "      <td>https://twitter.com/LandNoli/status/1581863218...</td>\n",
       "      <td>57220</td>\n",
       "      <td>0</td>\n",
       "      <td>28610.0</td>\n",
       "      <td>57220</td>\n",
       "      <td>1.0</td>\n",
       "    </tr>\n",
       "    <tr>\n",
       "      <th>2</th>\n",
       "      <td>SphilileNxumalo</td>\n",
       "      <td>RT @michaelb4jordan: 3/3/23 #creed3 https://t....</td>\n",
       "      <td>True</td>\n",
       "      <td>2022-10-17T13:57:54.000Z</td>\n",
       "      <td>2022-10-17</td>\n",
       "      <td>0</td>\n",
       "      <td>0</td>\n",
       "      <td>0</td>\n",
       "      <td>47678</td>\n",
       "      <td>https://twitter.com/SphilileNxumalo/status/158...</td>\n",
       "      <td>47678</td>\n",
       "      <td>1</td>\n",
       "      <td>23839.0</td>\n",
       "      <td>47678</td>\n",
       "      <td>2.0</td>\n",
       "    </tr>\n",
       "    <tr>\n",
       "      <th>3</th>\n",
       "      <td>coolfrancess</td>\n",
       "      <td>RT @dipo_smart: The person he’s proposing to i...</td>\n",
       "      <td>False</td>\n",
       "      <td>2022-10-17T06:43:38.000Z</td>\n",
       "      <td>2022-10-17</td>\n",
       "      <td>0</td>\n",
       "      <td>0</td>\n",
       "      <td>0</td>\n",
       "      <td>22621</td>\n",
       "      <td>https://twitter.com/coolfrancess/status/158189...</td>\n",
       "      <td>22621</td>\n",
       "      <td>0</td>\n",
       "      <td>11310.5</td>\n",
       "      <td>22621</td>\n",
       "      <td>2.0</td>\n",
       "    </tr>\n",
       "    <tr>\n",
       "      <th>4</th>\n",
       "      <td>MbuyiseniNdlozi</td>\n",
       "      <td>RT @dipo_smart: The person he’s proposing to i...</td>\n",
       "      <td>False</td>\n",
       "      <td>2022-10-17T07:22:18.000Z</td>\n",
       "      <td>2022-10-17</td>\n",
       "      <td>0</td>\n",
       "      <td>0</td>\n",
       "      <td>0</td>\n",
       "      <td>22621</td>\n",
       "      <td>https://twitter.com/MbuyiseniNdlozi/status/158...</td>\n",
       "      <td>22621</td>\n",
       "      <td>1</td>\n",
       "      <td>11310.5</td>\n",
       "      <td>22621</td>\n",
       "      <td>3.0</td>\n",
       "    </tr>\n",
       "  </tbody>\n",
       "</table>\n",
       "</div>"
      ],
      "text/plain": [
       "          username                                               text  \\\n",
       "0     BashirAhmaad  RT @francefootball: KARIM BENZEMA IS THE 2022 ...   \n",
       "1         LandNoli  RT @wikileaks: Julian Assange speaking in 2011...   \n",
       "2  SphilileNxumalo  RT @michaelb4jordan: 3/3/23 #creed3 https://t....   \n",
       "3     coolfrancess  RT @dipo_smart: The person he’s proposing to i...   \n",
       "4  MbuyiseniNdlozi  RT @dipo_smart: The person he’s proposing to i...   \n",
       "\n",
       "   sensitive                      date date_consulted  like_count  \\\n",
       "0      False  2022-10-17T20:00:02.000Z     2022-10-17           0   \n",
       "1      False  2022-10-17T04:22:35.000Z     2022-10-17           0   \n",
       "2       True  2022-10-17T13:57:54.000Z     2022-10-17           0   \n",
       "3      False  2022-10-17T06:43:38.000Z     2022-10-17           0   \n",
       "4      False  2022-10-17T07:22:18.000Z     2022-10-17           0   \n",
       "\n",
       "   quote_count  reply_count  retweet_count  \\\n",
       "0            0            0          65106   \n",
       "1            0            0          57220   \n",
       "2            0            0          47678   \n",
       "3            0            0          22621   \n",
       "4            0            0          22621   \n",
       "\n",
       "                                                 url  total_interactions  \\\n",
       "0  https://twitter.com/BashirAhmaad/status/158209...               65106   \n",
       "1  https://twitter.com/LandNoli/status/1581863218...               57220   \n",
       "2  https://twitter.com/SphilileNxumalo/status/158...               47678   \n",
       "3  https://twitter.com/coolfrancess/status/158189...               22621   \n",
       "4  https://twitter.com/MbuyiseniNdlozi/status/158...               22621   \n",
       "\n",
       "   treatment  int_divided  total_ints_2 pairs  \n",
       "0          1      32553.0         65106   1.0  \n",
       "1          0      28610.0         57220   1.0  \n",
       "2          1      23839.0         47678   2.0  \n",
       "3          0      11310.5         22621   2.0  \n",
       "4          1      11310.5         22621   3.0  "
      ]
     },
     "execution_count": 36,
     "metadata": {},
     "output_type": "execute_result"
    }
   ],
   "source": [
    "# Creating new variables:\n",
    "\n",
    "df['int_divided'] = df['total_interactions']/2\n",
    "\n",
    "# Cool way to generate a list of variables with the same prefix, suffix\n",
    "metrics = [col for col in df.columns if '_count' in col]\n",
    "\n",
    "# Summing the columns (you can do .mean(), etc.)\n",
    "df['total_ints_2'] = df[metrics].sum(axis=1) # axis = 1 is axis = 'columns'\n",
    "\n",
    "# If else in Python using numpy\n",
    "\n",
    "df['pairs'] = np.where((df.index+1)%2==0, ((df.index+1)/2), ((df.index+2)/2)).astype(str)\n",
    "df.head()"
   ]
  },
  {
   "cell_type": "code",
   "execution_count": 42,
   "id": "90f2c5a5",
   "metadata": {},
   "outputs": [],
   "source": [
    "df = df.drop(['total_ints_2', 'int_divided'], axis = 1)"
   ]
  },
  {
   "cell_type": "code",
   "execution_count": 43,
   "id": "b3104af8",
   "metadata": {},
   "outputs": [
    {
     "name": "stdout",
     "output_type": "stream",
     "text": [
      "31 179\n"
     ]
    }
   ],
   "source": [
    "# Dropping duplicates, filtering the data set\n",
    "\n",
    "# Duplicates drop:\n",
    "\n",
    "df_new = df.drop_duplicates('username')\n",
    "print(len(df_new), len(df))"
   ]
  },
  {
   "cell_type": "code",
   "execution_count": 44,
   "id": "e322018b",
   "metadata": {},
   "outputs": [
    {
     "data": {
      "text/html": [
       "<div>\n",
       "<style scoped>\n",
       "    .dataframe tbody tr th:only-of-type {\n",
       "        vertical-align: middle;\n",
       "    }\n",
       "\n",
       "    .dataframe tbody tr th {\n",
       "        vertical-align: top;\n",
       "    }\n",
       "\n",
       "    .dataframe thead th {\n",
       "        text-align: right;\n",
       "    }\n",
       "</style>\n",
       "<table border=\"1\" class=\"dataframe\">\n",
       "  <thead>\n",
       "    <tr style=\"text-align: right;\">\n",
       "      <th></th>\n",
       "      <th>username</th>\n",
       "      <th>text</th>\n",
       "      <th>sensitive</th>\n",
       "      <th>date</th>\n",
       "      <th>date_consulted</th>\n",
       "      <th>like_count</th>\n",
       "      <th>quote_count</th>\n",
       "      <th>reply_count</th>\n",
       "      <th>retweet_count</th>\n",
       "      <th>url</th>\n",
       "      <th>total_interactions</th>\n",
       "      <th>treatment</th>\n",
       "      <th>pairs</th>\n",
       "    </tr>\n",
       "  </thead>\n",
       "  <tbody>\n",
       "    <tr>\n",
       "      <th>0</th>\n",
       "      <td>AfricaFactsZone</td>\n",
       "      <td>Sadio Mane wins the Socrates Award for combati...</td>\n",
       "      <td>False</td>\n",
       "      <td>2022-10-17T18:55:15.000Z</td>\n",
       "      <td>2022-10-17</td>\n",
       "      <td>7166</td>\n",
       "      <td>46</td>\n",
       "      <td>64</td>\n",
       "      <td>1221</td>\n",
       "      <td>https://twitter.com/AfricaFactsZone/status/158...</td>\n",
       "      <td>8497</td>\n",
       "      <td>0</td>\n",
       "      <td>6.0</td>\n",
       "    </tr>\n",
       "    <tr>\n",
       "      <th>1</th>\n",
       "      <td>KP24</td>\n",
       "      <td>Upsets  👀 #T20WorldCup</td>\n",
       "      <td>False</td>\n",
       "      <td>2022-10-17T08:22:23.000Z</td>\n",
       "      <td>2022-10-17</td>\n",
       "      <td>6030</td>\n",
       "      <td>9</td>\n",
       "      <td>78</td>\n",
       "      <td>120</td>\n",
       "      <td>https://twitter.com/KP24/status/15819235660562...</td>\n",
       "      <td>6237</td>\n",
       "      <td>0</td>\n",
       "      <td>9.0</td>\n",
       "    </tr>\n",
       "    <tr>\n",
       "      <th>2</th>\n",
       "      <td>AfricaFactsZone</td>\n",
       "      <td>DJ Khaled shows off his Mamelodi Sundowns jers...</td>\n",
       "      <td>False</td>\n",
       "      <td>2022-10-17T06:25:52.000Z</td>\n",
       "      <td>2022-10-17</td>\n",
       "      <td>4095</td>\n",
       "      <td>13</td>\n",
       "      <td>59</td>\n",
       "      <td>354</td>\n",
       "      <td>https://twitter.com/AfricaFactsZone/status/158...</td>\n",
       "      <td>4521</td>\n",
       "      <td>0</td>\n",
       "      <td>14.0</td>\n",
       "    </tr>\n",
       "    <tr>\n",
       "      <th>3</th>\n",
       "      <td>citizentvkenya</td>\n",
       "      <td>Junet Mohamed: Do you own A&amp;amp;L Hotel in Mac...</td>\n",
       "      <td>False</td>\n",
       "      <td>2022-10-17T13:53:00.000Z</td>\n",
       "      <td>2022-10-17</td>\n",
       "      <td>2959</td>\n",
       "      <td>60</td>\n",
       "      <td>121</td>\n",
       "      <td>593</td>\n",
       "      <td>https://twitter.com/citizentvkenya/status/1582...</td>\n",
       "      <td>3733</td>\n",
       "      <td>0</td>\n",
       "      <td>16.0</td>\n",
       "    </tr>\n",
       "    <tr>\n",
       "      <th>4</th>\n",
       "      <td>renoomokri</td>\n",
       "      <td>Look at Northern Nigeria that is landlocked. L...</td>\n",
       "      <td>False</td>\n",
       "      <td>2022-10-17T12:31:48.000Z</td>\n",
       "      <td>2022-10-17</td>\n",
       "      <td>1549</td>\n",
       "      <td>70</td>\n",
       "      <td>880</td>\n",
       "      <td>430</td>\n",
       "      <td>https://twitter.com/renoomokri/status/15819863...</td>\n",
       "      <td>2929</td>\n",
       "      <td>0</td>\n",
       "      <td>21.0</td>\n",
       "    </tr>\n",
       "  </tbody>\n",
       "</table>\n",
       "</div>"
      ],
      "text/plain": [
       "          username                                               text  \\\n",
       "0  AfricaFactsZone  Sadio Mane wins the Socrates Award for combati...   \n",
       "1             KP24                             Upsets  👀 #T20WorldCup   \n",
       "2  AfricaFactsZone  DJ Khaled shows off his Mamelodi Sundowns jers...   \n",
       "3   citizentvkenya  Junet Mohamed: Do you own A&amp;L Hotel in Mac...   \n",
       "4       renoomokri  Look at Northern Nigeria that is landlocked. L...   \n",
       "\n",
       "   sensitive                      date date_consulted  like_count  \\\n",
       "0      False  2022-10-17T18:55:15.000Z     2022-10-17        7166   \n",
       "1      False  2022-10-17T08:22:23.000Z     2022-10-17        6030   \n",
       "2      False  2022-10-17T06:25:52.000Z     2022-10-17        4095   \n",
       "3      False  2022-10-17T13:53:00.000Z     2022-10-17        2959   \n",
       "4      False  2022-10-17T12:31:48.000Z     2022-10-17        1549   \n",
       "\n",
       "   quote_count  reply_count  retweet_count  \\\n",
       "0           46           64           1221   \n",
       "1            9           78            120   \n",
       "2           13           59            354   \n",
       "3           60          121            593   \n",
       "4           70          880            430   \n",
       "\n",
       "                                                 url  total_interactions  \\\n",
       "0  https://twitter.com/AfricaFactsZone/status/158...                8497   \n",
       "1  https://twitter.com/KP24/status/15819235660562...                6237   \n",
       "2  https://twitter.com/AfricaFactsZone/status/158...                4521   \n",
       "3  https://twitter.com/citizentvkenya/status/1582...                3733   \n",
       "4  https://twitter.com/renoomokri/status/15819863...                2929   \n",
       "\n",
       "   treatment pairs  \n",
       "0          0   6.0  \n",
       "1          0   9.0  \n",
       "2          0  14.0  \n",
       "3          0  16.0  \n",
       "4          0  21.0  "
      ]
     },
     "execution_count": 44,
     "metadata": {},
     "output_type": "execute_result"
    }
   ],
   "source": [
    "# Filtering the data set using conditions:\n",
    "\n",
    "df_new = df[df['like_count'] > 0].reset_index(drop=True)\n",
    "\n",
    "df_new.head()"
   ]
  },
  {
   "cell_type": "code",
   "execution_count": 47,
   "id": "935232d2",
   "metadata": {},
   "outputs": [
    {
     "data": {
      "text/html": [
       "<div>\n",
       "<style scoped>\n",
       "    .dataframe tbody tr th:only-of-type {\n",
       "        vertical-align: middle;\n",
       "    }\n",
       "\n",
       "    .dataframe tbody tr th {\n",
       "        vertical-align: top;\n",
       "    }\n",
       "\n",
       "    .dataframe thead th {\n",
       "        text-align: right;\n",
       "    }\n",
       "</style>\n",
       "<table border=\"1\" class=\"dataframe\">\n",
       "  <thead>\n",
       "    <tr style=\"text-align: right;\">\n",
       "      <th></th>\n",
       "      <th>username</th>\n",
       "      <th>text</th>\n",
       "      <th>sensitive</th>\n",
       "      <th>date</th>\n",
       "      <th>date_consulted</th>\n",
       "      <th>like_count</th>\n",
       "      <th>quote_count</th>\n",
       "      <th>reply_count</th>\n",
       "      <th>retweet_count</th>\n",
       "      <th>url</th>\n",
       "      <th>total_interactions</th>\n",
       "      <th>treatment</th>\n",
       "      <th>pairs</th>\n",
       "    </tr>\n",
       "  </thead>\n",
       "  <tbody>\n",
       "    <tr>\n",
       "      <th>0</th>\n",
       "      <td>AfricaFactsZone</td>\n",
       "      <td>Sadio Mane wins the Socrates Award for combati...</td>\n",
       "      <td>False</td>\n",
       "      <td>2022-10-17T18:55:15.000Z</td>\n",
       "      <td>2022-10-17</td>\n",
       "      <td>7166</td>\n",
       "      <td>46</td>\n",
       "      <td>64</td>\n",
       "      <td>1221</td>\n",
       "      <td>https://twitter.com/AfricaFactsZone/status/158...</td>\n",
       "      <td>8497</td>\n",
       "      <td>0</td>\n",
       "      <td>6.0</td>\n",
       "    </tr>\n",
       "    <tr>\n",
       "      <th>1</th>\n",
       "      <td>AfricaFactsZone</td>\n",
       "      <td>DJ Khaled shows off his Mamelodi Sundowns jers...</td>\n",
       "      <td>False</td>\n",
       "      <td>2022-10-17T06:25:52.000Z</td>\n",
       "      <td>2022-10-17</td>\n",
       "      <td>4095</td>\n",
       "      <td>13</td>\n",
       "      <td>59</td>\n",
       "      <td>354</td>\n",
       "      <td>https://twitter.com/AfricaFactsZone/status/158...</td>\n",
       "      <td>4521</td>\n",
       "      <td>0</td>\n",
       "      <td>14.0</td>\n",
       "    </tr>\n",
       "    <tr>\n",
       "      <th>2</th>\n",
       "      <td>citizentvkenya</td>\n",
       "      <td>Junet Mohamed: Do you own A&amp;amp;L Hotel in Mac...</td>\n",
       "      <td>False</td>\n",
       "      <td>2022-10-17T13:53:00.000Z</td>\n",
       "      <td>2022-10-17</td>\n",
       "      <td>2959</td>\n",
       "      <td>60</td>\n",
       "      <td>121</td>\n",
       "      <td>593</td>\n",
       "      <td>https://twitter.com/citizentvkenya/status/1582...</td>\n",
       "      <td>3733</td>\n",
       "      <td>0</td>\n",
       "      <td>16.0</td>\n",
       "    </tr>\n",
       "    <tr>\n",
       "      <th>3</th>\n",
       "      <td>renoomokri</td>\n",
       "      <td>Look at Northern Nigeria that is landlocked. L...</td>\n",
       "      <td>False</td>\n",
       "      <td>2022-10-17T12:31:48.000Z</td>\n",
       "      <td>2022-10-17</td>\n",
       "      <td>1549</td>\n",
       "      <td>70</td>\n",
       "      <td>880</td>\n",
       "      <td>430</td>\n",
       "      <td>https://twitter.com/renoomokri/status/15819863...</td>\n",
       "      <td>2929</td>\n",
       "      <td>0</td>\n",
       "      <td>21.0</td>\n",
       "    </tr>\n",
       "    <tr>\n",
       "      <th>4</th>\n",
       "      <td>renoomokri</td>\n",
       "      <td>Look at the businesses Tinubu attracted to Lag...</td>\n",
       "      <td>False</td>\n",
       "      <td>2022-10-17T12:08:29.000Z</td>\n",
       "      <td>2022-10-17</td>\n",
       "      <td>1320</td>\n",
       "      <td>81</td>\n",
       "      <td>1196</td>\n",
       "      <td>273</td>\n",
       "      <td>https://twitter.com/renoomokri/status/15819804...</td>\n",
       "      <td>2870</td>\n",
       "      <td>0</td>\n",
       "      <td>21.0</td>\n",
       "    </tr>\n",
       "  </tbody>\n",
       "</table>\n",
       "</div>"
      ],
      "text/plain": [
       "          username                                               text  \\\n",
       "0  AfricaFactsZone  Sadio Mane wins the Socrates Award for combati...   \n",
       "1  AfricaFactsZone  DJ Khaled shows off his Mamelodi Sundowns jers...   \n",
       "2   citizentvkenya  Junet Mohamed: Do you own A&amp;L Hotel in Mac...   \n",
       "3       renoomokri  Look at Northern Nigeria that is landlocked. L...   \n",
       "4       renoomokri  Look at the businesses Tinubu attracted to Lag...   \n",
       "\n",
       "   sensitive                      date date_consulted  like_count  \\\n",
       "0      False  2022-10-17T18:55:15.000Z     2022-10-17        7166   \n",
       "1      False  2022-10-17T06:25:52.000Z     2022-10-17        4095   \n",
       "2      False  2022-10-17T13:53:00.000Z     2022-10-17        2959   \n",
       "3      False  2022-10-17T12:31:48.000Z     2022-10-17        1549   \n",
       "4      False  2022-10-17T12:08:29.000Z     2022-10-17        1320   \n",
       "\n",
       "   quote_count  reply_count  retweet_count  \\\n",
       "0           46           64           1221   \n",
       "1           13           59            354   \n",
       "2           60          121            593   \n",
       "3           70          880            430   \n",
       "4           81         1196            273   \n",
       "\n",
       "                                                 url  total_interactions  \\\n",
       "0  https://twitter.com/AfricaFactsZone/status/158...                8497   \n",
       "1  https://twitter.com/AfricaFactsZone/status/158...                4521   \n",
       "2  https://twitter.com/citizentvkenya/status/1582...                3733   \n",
       "3  https://twitter.com/renoomokri/status/15819863...                2929   \n",
       "4  https://twitter.com/renoomokri/status/15819804...                2870   \n",
       "\n",
       "   treatment pairs  \n",
       "0          0   6.0  \n",
       "1          0  14.0  \n",
       "2          0  16.0  \n",
       "3          0  21.0  \n",
       "4          0  21.0  "
      ]
     },
     "execution_count": 47,
     "metadata": {},
     "output_type": "execute_result"
    }
   ],
   "source": [
    "# Or using several conditions:\n",
    "\n",
    "df_new = df[(df['like_count'] > 110) & (df['quote_count'] > 10)].reset_index(drop=True)\n",
    "\n",
    "df_new.head()"
   ]
  },
  {
   "cell_type": "code",
   "execution_count": 49,
   "id": "e861f3b5",
   "metadata": {},
   "outputs": [
    {
     "data": {
      "text/html": [
       "<div>\n",
       "<style scoped>\n",
       "    .dataframe tbody tr th:only-of-type {\n",
       "        vertical-align: middle;\n",
       "    }\n",
       "\n",
       "    .dataframe tbody tr th {\n",
       "        vertical-align: top;\n",
       "    }\n",
       "\n",
       "    .dataframe thead th {\n",
       "        text-align: right;\n",
       "    }\n",
       "</style>\n",
       "<table border=\"1\" class=\"dataframe\">\n",
       "  <thead>\n",
       "    <tr style=\"text-align: right;\">\n",
       "      <th></th>\n",
       "      <th>username</th>\n",
       "      <th>text</th>\n",
       "      <th>sensitive</th>\n",
       "      <th>date</th>\n",
       "      <th>date_consulted</th>\n",
       "      <th>like_count</th>\n",
       "      <th>quote_count</th>\n",
       "      <th>reply_count</th>\n",
       "      <th>retweet_count</th>\n",
       "      <th>url</th>\n",
       "      <th>total_interactions</th>\n",
       "      <th>treatment</th>\n",
       "      <th>pairs</th>\n",
       "    </tr>\n",
       "  </thead>\n",
       "  <tbody>\n",
       "    <tr>\n",
       "      <th>0</th>\n",
       "      <td>NationAfrica</td>\n",
       "      <td>Kenyans on Twitter dealt with Gen. Muhoozi ~ A...</td>\n",
       "      <td>False</td>\n",
       "      <td>2022-10-17T11:56:01.000Z</td>\n",
       "      <td>2022-10-17</td>\n",
       "      <td>2183</td>\n",
       "      <td>22</td>\n",
       "      <td>61</td>\n",
       "      <td>285</td>\n",
       "      <td>https://twitter.com/NationAfrica/status/158197...</td>\n",
       "      <td>2551</td>\n",
       "      <td>0</td>\n",
       "      <td>22.0</td>\n",
       "    </tr>\n",
       "    <tr>\n",
       "      <th>1</th>\n",
       "      <td>BBCAfrica</td>\n",
       "      <td>As #Ethiopia’s civil war continues to rage, a ...</td>\n",
       "      <td>False</td>\n",
       "      <td>2022-10-17T07:34:53.000Z</td>\n",
       "      <td>2022-10-17</td>\n",
       "      <td>775</td>\n",
       "      <td>141</td>\n",
       "      <td>232</td>\n",
       "      <td>1059</td>\n",
       "      <td>https://twitter.com/BBCAfrica/status/158191161...</td>\n",
       "      <td>2207</td>\n",
       "      <td>1</td>\n",
       "      <td>24.0</td>\n",
       "    </tr>\n",
       "    <tr>\n",
       "      <th>2</th>\n",
       "      <td>KakwenzaRukira</td>\n",
       "      <td>Gen. Muhoozi is not a four star General, he is...</td>\n",
       "      <td>False</td>\n",
       "      <td>2022-10-17T10:39:03.000Z</td>\n",
       "      <td>2022-10-17</td>\n",
       "      <td>1740</td>\n",
       "      <td>13</td>\n",
       "      <td>245</td>\n",
       "      <td>159</td>\n",
       "      <td>https://twitter.com/KakwenzaRukira/status/1581...</td>\n",
       "      <td>2157</td>\n",
       "      <td>1</td>\n",
       "      <td>25.0</td>\n",
       "    </tr>\n",
       "    <tr>\n",
       "      <th>3</th>\n",
       "      <td>MrOdanz</td>\n",
       "      <td>Sheikh Gumi has joined General Eneche, Doyin O...</td>\n",
       "      <td>False</td>\n",
       "      <td>2022-10-17T13:07:39.000Z</td>\n",
       "      <td>2022-10-17</td>\n",
       "      <td>1391</td>\n",
       "      <td>64</td>\n",
       "      <td>135</td>\n",
       "      <td>526</td>\n",
       "      <td>https://twitter.com/MrOdanz/status/15819953535...</td>\n",
       "      <td>2116</td>\n",
       "      <td>1</td>\n",
       "      <td>26.0</td>\n",
       "    </tr>\n",
       "    <tr>\n",
       "      <th>4</th>\n",
       "      <td>MrOdanz</td>\n",
       "      <td>Bola Tinubu on climate change:\\n\\n\"How do you ...</td>\n",
       "      <td>False</td>\n",
       "      <td>2022-10-17T15:33:38.000Z</td>\n",
       "      <td>2022-10-17</td>\n",
       "      <td>923</td>\n",
       "      <td>269</td>\n",
       "      <td>275</td>\n",
       "      <td>613</td>\n",
       "      <td>https://twitter.com/MrOdanz/status/15820320915...</td>\n",
       "      <td>2080</td>\n",
       "      <td>1</td>\n",
       "      <td>28.0</td>\n",
       "    </tr>\n",
       "  </tbody>\n",
       "</table>\n",
       "</div>"
      ],
      "text/plain": [
       "         username                                               text  \\\n",
       "0    NationAfrica  Kenyans on Twitter dealt with Gen. Muhoozi ~ A...   \n",
       "1       BBCAfrica  As #Ethiopia’s civil war continues to rage, a ...   \n",
       "2  KakwenzaRukira  Gen. Muhoozi is not a four star General, he is...   \n",
       "3         MrOdanz  Sheikh Gumi has joined General Eneche, Doyin O...   \n",
       "4         MrOdanz  Bola Tinubu on climate change:\\n\\n\"How do you ...   \n",
       "\n",
       "   sensitive                      date date_consulted  like_count  \\\n",
       "0      False  2022-10-17T11:56:01.000Z     2022-10-17        2183   \n",
       "1      False  2022-10-17T07:34:53.000Z     2022-10-17         775   \n",
       "2      False  2022-10-17T10:39:03.000Z     2022-10-17        1740   \n",
       "3      False  2022-10-17T13:07:39.000Z     2022-10-17        1391   \n",
       "4      False  2022-10-17T15:33:38.000Z     2022-10-17         923   \n",
       "\n",
       "   quote_count  reply_count  retweet_count  \\\n",
       "0           22           61            285   \n",
       "1          141          232           1059   \n",
       "2           13          245            159   \n",
       "3           64          135            526   \n",
       "4          269          275            613   \n",
       "\n",
       "                                                 url  total_interactions  \\\n",
       "0  https://twitter.com/NationAfrica/status/158197...                2551   \n",
       "1  https://twitter.com/BBCAfrica/status/158191161...                2207   \n",
       "2  https://twitter.com/KakwenzaRukira/status/1581...                2157   \n",
       "3  https://twitter.com/MrOdanz/status/15819953535...                2116   \n",
       "4  https://twitter.com/MrOdanz/status/15820320915...                2080   \n",
       "\n",
       "   treatment pairs  \n",
       "0          0  22.0  \n",
       "1          1  24.0  \n",
       "2          1  25.0  \n",
       "3          1  26.0  \n",
       "4          1  28.0  "
      ]
     },
     "execution_count": 49,
     "metadata": {},
     "output_type": "execute_result"
    }
   ],
   "source": [
    "# Or use a list to filter if there are values in that list:\n",
    "\n",
    "exclude_usernames = ['AfricaFactsZone', 'renoomokri', 'citizentvkenya']\n",
    "\n",
    "df_new = df[(~df['username'].isin(exclude_usernames)) & (df['like_count'] > 110) & \n",
    "            (df['quote_count'] > 10)].reset_index(drop = True)\n",
    "\n",
    "df_new.head()"
   ]
  },
  {
   "cell_type": "code",
   "execution_count": 62,
   "id": "2ed26dd3",
   "metadata": {},
   "outputs": [
    {
     "data": {
      "text/html": [
       "<div>\n",
       "<style scoped>\n",
       "    .dataframe tbody tr th:only-of-type {\n",
       "        vertical-align: middle;\n",
       "    }\n",
       "\n",
       "    .dataframe tbody tr th {\n",
       "        vertical-align: top;\n",
       "    }\n",
       "\n",
       "    .dataframe thead th {\n",
       "        text-align: right;\n",
       "    }\n",
       "</style>\n",
       "<table border=\"1\" class=\"dataframe\">\n",
       "  <thead>\n",
       "    <tr style=\"text-align: right;\">\n",
       "      <th></th>\n",
       "      <th>username</th>\n",
       "      <th>user_treatment</th>\n",
       "    </tr>\n",
       "  </thead>\n",
       "  <tbody>\n",
       "    <tr>\n",
       "      <th>0</th>\n",
       "      <td>BashirAhmaad</td>\n",
       "      <td>1</td>\n",
       "    </tr>\n",
       "    <tr>\n",
       "      <th>1</th>\n",
       "      <td>LandNoli</td>\n",
       "      <td>0</td>\n",
       "    </tr>\n",
       "    <tr>\n",
       "      <th>2</th>\n",
       "      <td>SphilileNxumalo</td>\n",
       "      <td>1</td>\n",
       "    </tr>\n",
       "    <tr>\n",
       "      <th>3</th>\n",
       "      <td>coolfrancess</td>\n",
       "      <td>1</td>\n",
       "    </tr>\n",
       "    <tr>\n",
       "      <th>4</th>\n",
       "      <td>MbuyiseniNdlozi</td>\n",
       "      <td>0</td>\n",
       "    </tr>\n",
       "  </tbody>\n",
       "</table>\n",
       "</div>"
      ],
      "text/plain": [
       "          username  user_treatment\n",
       "0     BashirAhmaad               1\n",
       "1         LandNoli               0\n",
       "2  SphilileNxumalo               1\n",
       "3     coolfrancess               1\n",
       "4  MbuyiseniNdlozi               0"
      ]
     },
     "execution_count": 62,
     "metadata": {},
     "output_type": "execute_result"
    }
   ],
   "source": [
    "# Generating a random data frame so we can merge it \n",
    "df.rename({'treatment': 'post_treatment'}, axis=1, inplace=True)\n",
    "df_treat = df[['username']].reset_index(drop=True)\n",
    "df_treat = df_treat.drop_duplicates()\n",
    "\n",
    "import random\n",
    "df_treat['user_treatment'] = [random.randint(0, 1)  for k in df_treat.index]\n",
    "df_treat.head()"
   ]
  },
  {
   "cell_type": "code",
   "execution_count": 63,
   "id": "787e2e9e",
   "metadata": {},
   "outputs": [
    {
     "data": {
      "text/html": [
       "<div>\n",
       "<style scoped>\n",
       "    .dataframe tbody tr th:only-of-type {\n",
       "        vertical-align: middle;\n",
       "    }\n",
       "\n",
       "    .dataframe tbody tr th {\n",
       "        vertical-align: top;\n",
       "    }\n",
       "\n",
       "    .dataframe thead th {\n",
       "        text-align: right;\n",
       "    }\n",
       "</style>\n",
       "<table border=\"1\" class=\"dataframe\">\n",
       "  <thead>\n",
       "    <tr style=\"text-align: right;\">\n",
       "      <th></th>\n",
       "      <th>username</th>\n",
       "      <th>text</th>\n",
       "      <th>sensitive</th>\n",
       "      <th>date</th>\n",
       "      <th>date_consulted</th>\n",
       "      <th>like_count</th>\n",
       "      <th>quote_count</th>\n",
       "      <th>reply_count</th>\n",
       "      <th>retweet_count</th>\n",
       "      <th>url</th>\n",
       "      <th>total_interactions</th>\n",
       "      <th>post_treatment</th>\n",
       "      <th>user_treatment</th>\n",
       "    </tr>\n",
       "  </thead>\n",
       "  <tbody>\n",
       "    <tr>\n",
       "      <th>0</th>\n",
       "      <td>BashirAhmaad</td>\n",
       "      <td>RT @francefootball: KARIM BENZEMA IS THE 2022 ...</td>\n",
       "      <td>False</td>\n",
       "      <td>2022-10-17T20:00:02.000Z</td>\n",
       "      <td>2022-10-17</td>\n",
       "      <td>0</td>\n",
       "      <td>0</td>\n",
       "      <td>0</td>\n",
       "      <td>65106</td>\n",
       "      <td>https://twitter.com/BashirAhmaad/status/158209...</td>\n",
       "      <td>65106</td>\n",
       "      <td>1</td>\n",
       "      <td>1</td>\n",
       "    </tr>\n",
       "    <tr>\n",
       "      <th>1</th>\n",
       "      <td>LandNoli</td>\n",
       "      <td>RT @wikileaks: Julian Assange speaking in 2011...</td>\n",
       "      <td>False</td>\n",
       "      <td>2022-10-17T04:22:35.000Z</td>\n",
       "      <td>2022-10-17</td>\n",
       "      <td>0</td>\n",
       "      <td>0</td>\n",
       "      <td>0</td>\n",
       "      <td>57220</td>\n",
       "      <td>https://twitter.com/LandNoli/status/1581863218...</td>\n",
       "      <td>57220</td>\n",
       "      <td>0</td>\n",
       "      <td>0</td>\n",
       "    </tr>\n",
       "    <tr>\n",
       "      <th>2</th>\n",
       "      <td>SphilileNxumalo</td>\n",
       "      <td>RT @michaelb4jordan: 3/3/23 #creed3 https://t....</td>\n",
       "      <td>True</td>\n",
       "      <td>2022-10-17T13:57:54.000Z</td>\n",
       "      <td>2022-10-17</td>\n",
       "      <td>0</td>\n",
       "      <td>0</td>\n",
       "      <td>0</td>\n",
       "      <td>47678</td>\n",
       "      <td>https://twitter.com/SphilileNxumalo/status/158...</td>\n",
       "      <td>47678</td>\n",
       "      <td>1</td>\n",
       "      <td>1</td>\n",
       "    </tr>\n",
       "    <tr>\n",
       "      <th>3</th>\n",
       "      <td>coolfrancess</td>\n",
       "      <td>RT @dipo_smart: The person he’s proposing to i...</td>\n",
       "      <td>False</td>\n",
       "      <td>2022-10-17T06:43:38.000Z</td>\n",
       "      <td>2022-10-17</td>\n",
       "      <td>0</td>\n",
       "      <td>0</td>\n",
       "      <td>0</td>\n",
       "      <td>22621</td>\n",
       "      <td>https://twitter.com/coolfrancess/status/158189...</td>\n",
       "      <td>22621</td>\n",
       "      <td>0</td>\n",
       "      <td>1</td>\n",
       "    </tr>\n",
       "    <tr>\n",
       "      <th>4</th>\n",
       "      <td>MbuyiseniNdlozi</td>\n",
       "      <td>RT @dipo_smart: The person he’s proposing to i...</td>\n",
       "      <td>False</td>\n",
       "      <td>2022-10-17T07:22:18.000Z</td>\n",
       "      <td>2022-10-17</td>\n",
       "      <td>0</td>\n",
       "      <td>0</td>\n",
       "      <td>0</td>\n",
       "      <td>22621</td>\n",
       "      <td>https://twitter.com/MbuyiseniNdlozi/status/158...</td>\n",
       "      <td>22621</td>\n",
       "      <td>1</td>\n",
       "      <td>0</td>\n",
       "    </tr>\n",
       "  </tbody>\n",
       "</table>\n",
       "</div>"
      ],
      "text/plain": [
       "          username                                               text  \\\n",
       "0     BashirAhmaad  RT @francefootball: KARIM BENZEMA IS THE 2022 ...   \n",
       "1         LandNoli  RT @wikileaks: Julian Assange speaking in 2011...   \n",
       "2  SphilileNxumalo  RT @michaelb4jordan: 3/3/23 #creed3 https://t....   \n",
       "3     coolfrancess  RT @dipo_smart: The person he’s proposing to i...   \n",
       "4  MbuyiseniNdlozi  RT @dipo_smart: The person he’s proposing to i...   \n",
       "\n",
       "   sensitive                      date date_consulted  like_count  \\\n",
       "0      False  2022-10-17T20:00:02.000Z     2022-10-17           0   \n",
       "1      False  2022-10-17T04:22:35.000Z     2022-10-17           0   \n",
       "2       True  2022-10-17T13:57:54.000Z     2022-10-17           0   \n",
       "3      False  2022-10-17T06:43:38.000Z     2022-10-17           0   \n",
       "4      False  2022-10-17T07:22:18.000Z     2022-10-17           0   \n",
       "\n",
       "   quote_count  reply_count  retweet_count  \\\n",
       "0            0            0          65106   \n",
       "1            0            0          57220   \n",
       "2            0            0          47678   \n",
       "3            0            0          22621   \n",
       "4            0            0          22621   \n",
       "\n",
       "                                                 url  total_interactions  \\\n",
       "0  https://twitter.com/BashirAhmaad/status/158209...               65106   \n",
       "1  https://twitter.com/LandNoli/status/1581863218...               57220   \n",
       "2  https://twitter.com/SphilileNxumalo/status/158...               47678   \n",
       "3  https://twitter.com/coolfrancess/status/158189...               22621   \n",
       "4  https://twitter.com/MbuyiseniNdlozi/status/158...               22621   \n",
       "\n",
       "   post_treatment  user_treatment  \n",
       "0               1               1  \n",
       "1               0               0  \n",
       "2               1               1  \n",
       "3               0               1  \n",
       "4               1               0  "
      ]
     },
     "execution_count": 63,
     "metadata": {},
     "output_type": "execute_result"
    }
   ],
   "source": [
    "# Merging (we will only see left since the other ones are analogous to this and to what we know from R)\n",
    "\n",
    "df = df.merge(df_treat, on='username', how='left')\n",
    "df.head()"
   ]
  },
  {
   "cell_type": "code",
   "execution_count": 64,
   "id": "9c876d12",
   "metadata": {},
   "outputs": [
    {
     "data": {
      "text/plain": [
       "2848.027932960894"
      ]
     },
     "execution_count": 64,
     "metadata": {},
     "output_type": "execute_result"
    }
   ],
   "source": [
    "# Summarizing the info using mean(), min() and those type of functions:\n",
    "\n",
    "# Getting the mean of a certain variable:\n",
    "df['retweet_count'].mean()"
   ]
  },
  {
   "cell_type": "code",
   "execution_count": 67,
   "id": "b5574c9a",
   "metadata": {},
   "outputs": [
    {
     "data": {
      "text/html": [
       "<div>\n",
       "<style scoped>\n",
       "    .dataframe tbody tr th:only-of-type {\n",
       "        vertical-align: middle;\n",
       "    }\n",
       "\n",
       "    .dataframe tbody tr th {\n",
       "        vertical-align: top;\n",
       "    }\n",
       "\n",
       "    .dataframe thead th {\n",
       "        text-align: right;\n",
       "    }\n",
       "</style>\n",
       "<table border=\"1\" class=\"dataframe\">\n",
       "  <thead>\n",
       "    <tr style=\"text-align: right;\">\n",
       "      <th></th>\n",
       "      <th>Type of Interaction</th>\n",
       "      <th>Mean</th>\n",
       "      <th>SD</th>\n",
       "      <th>Min.</th>\n",
       "      <th>Max.</th>\n",
       "    </tr>\n",
       "  </thead>\n",
       "  <tbody>\n",
       "    <tr>\n",
       "      <th>0</th>\n",
       "      <td>RTs</td>\n",
       "      <td>2848.027933</td>\n",
       "      <td>7966.844376</td>\n",
       "      <td>29</td>\n",
       "      <td>65106</td>\n",
       "    </tr>\n",
       "    <tr>\n",
       "      <th>1</th>\n",
       "      <td>Likes</td>\n",
       "      <td>391.955307</td>\n",
       "      <td>883.994959</td>\n",
       "      <td>0</td>\n",
       "      <td>7166</td>\n",
       "    </tr>\n",
       "    <tr>\n",
       "      <th>2</th>\n",
       "      <td>Quotes</td>\n",
       "      <td>8.240223</td>\n",
       "      <td>25.657716</td>\n",
       "      <td>0</td>\n",
       "      <td>269</td>\n",
       "    </tr>\n",
       "    <tr>\n",
       "      <th>3</th>\n",
       "      <td>Replies</td>\n",
       "      <td>52.664804</td>\n",
       "      <td>139.827058</td>\n",
       "      <td>0</td>\n",
       "      <td>1196</td>\n",
       "    </tr>\n",
       "  </tbody>\n",
       "</table>\n",
       "</div>"
      ],
      "text/plain": [
       "  Type of Interaction         Mean           SD  Min.   Max.\n",
       "0                 RTs  2848.027933  7966.844376    29  65106\n",
       "1               Likes   391.955307   883.994959     0   7166\n",
       "2              Quotes     8.240223    25.657716     0    269\n",
       "3             Replies    52.664804   139.827058     0   1196"
      ]
     },
     "execution_count": 67,
     "metadata": {},
     "output_type": "execute_result"
    }
   ],
   "source": [
    "# Build tables from this locals:\n",
    "\n",
    "data_summ = {'Type of Interaction': ['RTs', 'Likes', 'Quotes', 'Replies'],\n",
    "  'Mean': [df['retweet_count'].mean(), df['like_count'].mean(), df['quote_count'].mean(), df['reply_count'].mean()],\n",
    "  \"SD\": [df['retweet_count'].std(), df['like_count'].std(), df['quote_count'].std(), df['reply_count'].std()],\n",
    "  \"Min.\": [df['retweet_count'].min(), df['like_count'].min(), df['quote_count'].min(), df['reply_count'].min()],\n",
    "  \"Max.\": [df['retweet_count'].max(), df['like_count'].max(), df['quote_count'].max(), df['reply_count'].max()]\n",
    "}\n",
    "\n",
    "data_summ = pd.DataFrame(data_summ)\n",
    "\n",
    "data_summ"
   ]
  },
  {
   "cell_type": "code",
   "execution_count": 70,
   "id": "c428b51e",
   "metadata": {},
   "outputs": [
    {
     "data": {
      "text/html": [
       "<div>\n",
       "<style scoped>\n",
       "    .dataframe tbody tr th:only-of-type {\n",
       "        vertical-align: middle;\n",
       "    }\n",
       "\n",
       "    .dataframe tbody tr th {\n",
       "        vertical-align: top;\n",
       "    }\n",
       "\n",
       "    .dataframe thead th {\n",
       "        text-align: right;\n",
       "    }\n",
       "</style>\n",
       "<table border=\"1\" class=\"dataframe\">\n",
       "  <thead>\n",
       "    <tr style=\"text-align: right;\">\n",
       "      <th></th>\n",
       "      <th>retweet_count</th>\n",
       "      <th>like_count</th>\n",
       "      <th>quote_count</th>\n",
       "      <th>reply_count</th>\n",
       "    </tr>\n",
       "    <tr>\n",
       "      <th>post_treatment</th>\n",
       "      <th></th>\n",
       "      <th></th>\n",
       "      <th></th>\n",
       "      <th></th>\n",
       "    </tr>\n",
       "  </thead>\n",
       "  <tbody>\n",
       "    <tr>\n",
       "      <th>0</th>\n",
       "      <td>2237.584615</td>\n",
       "      <td>840.646154</td>\n",
       "      <td>11.707692</td>\n",
       "      <td>112.569231</td>\n",
       "    </tr>\n",
       "    <tr>\n",
       "      <th>1</th>\n",
       "      <td>3196.087719</td>\n",
       "      <td>136.122807</td>\n",
       "      <td>6.263158</td>\n",
       "      <td>18.508772</td>\n",
       "    </tr>\n",
       "  </tbody>\n",
       "</table>\n",
       "</div>"
      ],
      "text/plain": [
       "                retweet_count  like_count  quote_count  reply_count\n",
       "post_treatment                                                     \n",
       "0                 2237.584615  840.646154    11.707692   112.569231\n",
       "1                 3196.087719  136.122807     6.263158    18.508772"
      ]
     },
     "execution_count": 70,
     "metadata": {},
     "output_type": "execute_result"
    }
   ],
   "source": [
    "# We can also create summary statistics by group using group by:\n",
    "metrics = ['retweet_count', 'like_count', 'quote_count', 'reply_count']\n",
    "grouped_summ = df[['post_treatment'] + metrics].groupby('post_treatment').mean()\n",
    "\n",
    "grouped_summ"
   ]
  },
  {
   "cell_type": "code",
   "execution_count": 71,
   "id": "b663287c",
   "metadata": {},
   "outputs": [
    {
     "name": "stdout",
     "output_type": "stream",
     "text": [
      "\\begin{tabular}{lrrrr}\n",
      "\\toprule\n",
      "{} &  retweet\\_count &  like\\_count &  quote\\_count &  reply\\_count \\\\\n",
      "post\\_treatment &                &             &              &              \\\\\n",
      "\\midrule\n",
      "0              &    2237.584615 &  840.646154 &    11.707692 &   112.569231 \\\\\n",
      "1              &    3196.087719 &  136.122807 &     6.263158 &    18.508772 \\\\\n",
      "\\bottomrule\n",
      "\\end{tabular}\n",
      "\n"
     ]
    }
   ],
   "source": [
    "# And we can export this tables to latex easily:\n",
    "print(grouped_summ.to_latex())"
   ]
  },
  {
   "cell_type": "code",
   "execution_count": 73,
   "id": "245cfc92",
   "metadata": {
    "scrolled": true
   },
   "outputs": [
    {
     "name": "stdout",
     "output_type": "stream",
     "text": [
      "\\begin{tabular}{llrrrr}\n",
      "\\toprule\n",
      "{} & Type of Interaction &         Mean &           SD &  Min. &   Max. \\\\\n",
      "\\midrule\n",
      "0 &                 RTs &  2848.027933 &  7966.844376 &    29 &  65106 \\\\\n",
      "1 &               Likes &   391.955307 &   883.994959 &     0 &   7166 \\\\\n",
      "2 &              Quotes &     8.240223 &    25.657716 &     0 &    269 \\\\\n",
      "3 &             Replies &    52.664804 &   139.827058 &     0 &   1196 \\\\\n",
      "\\bottomrule\n",
      "\\end{tabular}\n",
      "\n"
     ]
    }
   ],
   "source": [
    "print(data_summ.to_latex())"
   ]
  },
  {
   "cell_type": "markdown",
   "id": "a4909235",
   "metadata": {},
   "source": [
    "### Example using For Loops and pandas\n",
    "\n",
    "Look at the files located in the data folder: notice we have two folders containing three Excel files each. We would like to loop through these files and append them one in top of the other, this is what we call aggregating data into one file.\n",
    "\n",
    "We would also like to add respective columns to each file while appending, to do this we can use what we have learned from the pandas package.\n",
    "\n",
    "Let us first start with one of the files:"
   ]
  },
  {
   "cell_type": "code",
   "execution_count": 5,
   "id": "8b824ae9",
   "metadata": {},
   "outputs": [
    {
     "data": {
      "text/html": [
       "<div>\n",
       "<style scoped>\n",
       "    .dataframe tbody tr th:only-of-type {\n",
       "        vertical-align: middle;\n",
       "    }\n",
       "\n",
       "    .dataframe tbody tr th {\n",
       "        vertical-align: top;\n",
       "    }\n",
       "\n",
       "    .dataframe thead th {\n",
       "        text-align: right;\n",
       "    }\n",
       "</style>\n",
       "<table border=\"1\" class=\"dataframe\">\n",
       "  <thead>\n",
       "    <tr style=\"text-align: right;\">\n",
       "      <th></th>\n",
       "      <th>id</th>\n",
       "      <th>mujer</th>\n",
       "      <th>edad</th>\n",
       "      <th>batch</th>\n",
       "      <th>info</th>\n",
       "    </tr>\n",
       "  </thead>\n",
       "  <tbody>\n",
       "    <tr>\n",
       "      <th>0</th>\n",
       "      <td>1001</td>\n",
       "      <td>1</td>\n",
       "      <td>22</td>\n",
       "      <td>1</td>\n",
       "      <td>1</td>\n",
       "    </tr>\n",
       "    <tr>\n",
       "      <th>1</th>\n",
       "      <td>1002</td>\n",
       "      <td>1</td>\n",
       "      <td>12</td>\n",
       "      <td>1</td>\n",
       "      <td>1</td>\n",
       "    </tr>\n",
       "    <tr>\n",
       "      <th>2</th>\n",
       "      <td>1003</td>\n",
       "      <td>0</td>\n",
       "      <td>23</td>\n",
       "      <td>1</td>\n",
       "      <td>1</td>\n",
       "    </tr>\n",
       "    <tr>\n",
       "      <th>3</th>\n",
       "      <td>1004</td>\n",
       "      <td>1</td>\n",
       "      <td>43</td>\n",
       "      <td>1</td>\n",
       "      <td>1</td>\n",
       "    </tr>\n",
       "  </tbody>\n",
       "</table>\n",
       "</div>"
      ],
      "text/plain": [
       "     id  mujer  edad  batch  info\n",
       "0  1001      1    22      1     1\n",
       "1  1002      1    12      1     1\n",
       "2  1003      0    23      1     1\n",
       "3  1004      1    43      1     1"
      ]
     },
     "execution_count": 5,
     "metadata": {},
     "output_type": "execute_result"
    }
   ],
   "source": [
    "# Read the file:\n",
    "example = pd.read_excel('../data/batch1/info1.xlsx')\n",
    "\n",
    "# Add the batch\n",
    "example['batch'] = 1\n",
    "\n",
    "#Add the info:\n",
    "example['info'] = 1\n",
    "example"
   ]
  },
  {
   "cell_type": "code",
   "execution_count": 6,
   "id": "9b16380e",
   "metadata": {},
   "outputs": [
    {
     "data": {
      "text/html": [
       "<div>\n",
       "<style scoped>\n",
       "    .dataframe tbody tr th:only-of-type {\n",
       "        vertical-align: middle;\n",
       "    }\n",
       "\n",
       "    .dataframe tbody tr th {\n",
       "        vertical-align: top;\n",
       "    }\n",
       "\n",
       "    .dataframe thead th {\n",
       "        text-align: right;\n",
       "    }\n",
       "</style>\n",
       "<table border=\"1\" class=\"dataframe\">\n",
       "  <thead>\n",
       "    <tr style=\"text-align: right;\">\n",
       "      <th></th>\n",
       "      <th>id</th>\n",
       "      <th>mujer</th>\n",
       "      <th>edad</th>\n",
       "      <th>batch</th>\n",
       "      <th>info</th>\n",
       "    </tr>\n",
       "  </thead>\n",
       "  <tbody>\n",
       "    <tr>\n",
       "      <th>0</th>\n",
       "      <td>1001</td>\n",
       "      <td>1</td>\n",
       "      <td>22</td>\n",
       "      <td>1</td>\n",
       "      <td>1</td>\n",
       "    </tr>\n",
       "    <tr>\n",
       "      <th>1</th>\n",
       "      <td>1002</td>\n",
       "      <td>1</td>\n",
       "      <td>12</td>\n",
       "      <td>1</td>\n",
       "      <td>1</td>\n",
       "    </tr>\n",
       "    <tr>\n",
       "      <th>2</th>\n",
       "      <td>1003</td>\n",
       "      <td>0</td>\n",
       "      <td>23</td>\n",
       "      <td>1</td>\n",
       "      <td>1</td>\n",
       "    </tr>\n",
       "    <tr>\n",
       "      <th>3</th>\n",
       "      <td>1004</td>\n",
       "      <td>1</td>\n",
       "      <td>43</td>\n",
       "      <td>1</td>\n",
       "      <td>1</td>\n",
       "    </tr>\n",
       "  </tbody>\n",
       "</table>\n",
       "</div>"
      ],
      "text/plain": [
       "     id  mujer  edad  batch  info\n",
       "0  1001      1    22      1     1\n",
       "1  1002      1    12      1     1\n",
       "2  1003      0    23      1     1\n",
       "3  1004      1    43      1     1"
      ]
     },
     "execution_count": 6,
     "metadata": {},
     "output_type": "execute_result"
    }
   ],
   "source": [
    "# Can we write a function with this?\n",
    "\n",
    "def read_info(batch_num, info_num):\n",
    "    df = pd.read_excel(f'../data/batch{batch_num}/info{info_num}.xlsx')\n",
    "    df['batch'] = batch_num\n",
    "    df['info'] = info_num\n",
    "    return df\n",
    "\n",
    "# Yes we can\n",
    "example = read_info(1,1)\n",
    "example"
   ]
  },
  {
   "cell_type": "code",
   "execution_count": 8,
   "id": "7b3b1a32",
   "metadata": {},
   "outputs": [
    {
     "data": {
      "text/html": [
       "<div>\n",
       "<style scoped>\n",
       "    .dataframe tbody tr th:only-of-type {\n",
       "        vertical-align: middle;\n",
       "    }\n",
       "\n",
       "    .dataframe tbody tr th {\n",
       "        vertical-align: top;\n",
       "    }\n",
       "\n",
       "    .dataframe thead th {\n",
       "        text-align: right;\n",
       "    }\n",
       "</style>\n",
       "<table border=\"1\" class=\"dataframe\">\n",
       "  <thead>\n",
       "    <tr style=\"text-align: right;\">\n",
       "      <th></th>\n",
       "      <th>id</th>\n",
       "      <th>mujer</th>\n",
       "      <th>edad</th>\n",
       "      <th>batch</th>\n",
       "      <th>info</th>\n",
       "    </tr>\n",
       "  </thead>\n",
       "  <tbody>\n",
       "    <tr>\n",
       "      <th>0</th>\n",
       "      <td>1001</td>\n",
       "      <td>1</td>\n",
       "      <td>22</td>\n",
       "      <td>1</td>\n",
       "      <td>1</td>\n",
       "    </tr>\n",
       "    <tr>\n",
       "      <th>1</th>\n",
       "      <td>1002</td>\n",
       "      <td>1</td>\n",
       "      <td>12</td>\n",
       "      <td>1</td>\n",
       "      <td>1</td>\n",
       "    </tr>\n",
       "    <tr>\n",
       "      <th>2</th>\n",
       "      <td>1003</td>\n",
       "      <td>0</td>\n",
       "      <td>23</td>\n",
       "      <td>1</td>\n",
       "      <td>1</td>\n",
       "    </tr>\n",
       "    <tr>\n",
       "      <th>3</th>\n",
       "      <td>1004</td>\n",
       "      <td>1</td>\n",
       "      <td>43</td>\n",
       "      <td>1</td>\n",
       "      <td>1</td>\n",
       "    </tr>\n",
       "    <tr>\n",
       "      <th>4</th>\n",
       "      <td>1005</td>\n",
       "      <td>0</td>\n",
       "      <td>10</td>\n",
       "      <td>1</td>\n",
       "      <td>2</td>\n",
       "    </tr>\n",
       "    <tr>\n",
       "      <th>5</th>\n",
       "      <td>1006</td>\n",
       "      <td>1</td>\n",
       "      <td>15</td>\n",
       "      <td>1</td>\n",
       "      <td>2</td>\n",
       "    </tr>\n",
       "    <tr>\n",
       "      <th>6</th>\n",
       "      <td>1007</td>\n",
       "      <td>0</td>\n",
       "      <td>22</td>\n",
       "      <td>1</td>\n",
       "      <td>2</td>\n",
       "    </tr>\n",
       "    <tr>\n",
       "      <th>7</th>\n",
       "      <td>1008</td>\n",
       "      <td>1</td>\n",
       "      <td>39</td>\n",
       "      <td>1</td>\n",
       "      <td>2</td>\n",
       "    </tr>\n",
       "    <tr>\n",
       "      <th>8</th>\n",
       "      <td>1010</td>\n",
       "      <td>0</td>\n",
       "      <td>17</td>\n",
       "      <td>1</td>\n",
       "      <td>3</td>\n",
       "    </tr>\n",
       "    <tr>\n",
       "      <th>9</th>\n",
       "      <td>1011</td>\n",
       "      <td>0</td>\n",
       "      <td>22</td>\n",
       "      <td>1</td>\n",
       "      <td>3</td>\n",
       "    </tr>\n",
       "    <tr>\n",
       "      <th>10</th>\n",
       "      <td>1012</td>\n",
       "      <td>1</td>\n",
       "      <td>33</td>\n",
       "      <td>1</td>\n",
       "      <td>3</td>\n",
       "    </tr>\n",
       "    <tr>\n",
       "      <th>11</th>\n",
       "      <td>1013</td>\n",
       "      <td>1</td>\n",
       "      <td>15</td>\n",
       "      <td>1</td>\n",
       "      <td>3</td>\n",
       "    </tr>\n",
       "    <tr>\n",
       "      <th>12</th>\n",
       "      <td>2001</td>\n",
       "      <td>0</td>\n",
       "      <td>32</td>\n",
       "      <td>2</td>\n",
       "      <td>1</td>\n",
       "    </tr>\n",
       "    <tr>\n",
       "      <th>13</th>\n",
       "      <td>2002</td>\n",
       "      <td>1</td>\n",
       "      <td>12</td>\n",
       "      <td>2</td>\n",
       "      <td>1</td>\n",
       "    </tr>\n",
       "    <tr>\n",
       "      <th>14</th>\n",
       "      <td>2003</td>\n",
       "      <td>0</td>\n",
       "      <td>23</td>\n",
       "      <td>2</td>\n",
       "      <td>1</td>\n",
       "    </tr>\n",
       "    <tr>\n",
       "      <th>15</th>\n",
       "      <td>2004</td>\n",
       "      <td>1</td>\n",
       "      <td>43</td>\n",
       "      <td>2</td>\n",
       "      <td>1</td>\n",
       "    </tr>\n",
       "    <tr>\n",
       "      <th>16</th>\n",
       "      <td>2005</td>\n",
       "      <td>1</td>\n",
       "      <td>10</td>\n",
       "      <td>2</td>\n",
       "      <td>2</td>\n",
       "    </tr>\n",
       "    <tr>\n",
       "      <th>17</th>\n",
       "      <td>2006</td>\n",
       "      <td>1</td>\n",
       "      <td>12</td>\n",
       "      <td>2</td>\n",
       "      <td>2</td>\n",
       "    </tr>\n",
       "    <tr>\n",
       "      <th>18</th>\n",
       "      <td>2007</td>\n",
       "      <td>0</td>\n",
       "      <td>60</td>\n",
       "      <td>2</td>\n",
       "      <td>2</td>\n",
       "    </tr>\n",
       "    <tr>\n",
       "      <th>19</th>\n",
       "      <td>2008</td>\n",
       "      <td>0</td>\n",
       "      <td>49</td>\n",
       "      <td>2</td>\n",
       "      <td>2</td>\n",
       "    </tr>\n",
       "    <tr>\n",
       "      <th>20</th>\n",
       "      <td>2010</td>\n",
       "      <td>1</td>\n",
       "      <td>21</td>\n",
       "      <td>2</td>\n",
       "      <td>3</td>\n",
       "    </tr>\n",
       "    <tr>\n",
       "      <th>21</th>\n",
       "      <td>2011</td>\n",
       "      <td>0</td>\n",
       "      <td>22</td>\n",
       "      <td>2</td>\n",
       "      <td>3</td>\n",
       "    </tr>\n",
       "    <tr>\n",
       "      <th>22</th>\n",
       "      <td>2012</td>\n",
       "      <td>0</td>\n",
       "      <td>14</td>\n",
       "      <td>2</td>\n",
       "      <td>3</td>\n",
       "    </tr>\n",
       "    <tr>\n",
       "      <th>23</th>\n",
       "      <td>2013</td>\n",
       "      <td>1</td>\n",
       "      <td>10</td>\n",
       "      <td>2</td>\n",
       "      <td>3</td>\n",
       "    </tr>\n",
       "  </tbody>\n",
       "</table>\n",
       "</div>"
      ],
      "text/plain": [
       "      id  mujer  edad  batch  info\n",
       "0   1001      1    22      1     1\n",
       "1   1002      1    12      1     1\n",
       "2   1003      0    23      1     1\n",
       "3   1004      1    43      1     1\n",
       "4   1005      0    10      1     2\n",
       "5   1006      1    15      1     2\n",
       "6   1007      0    22      1     2\n",
       "7   1008      1    39      1     2\n",
       "8   1010      0    17      1     3\n",
       "9   1011      0    22      1     3\n",
       "10  1012      1    33      1     3\n",
       "11  1013      1    15      1     3\n",
       "12  2001      0    32      2     1\n",
       "13  2002      1    12      2     1\n",
       "14  2003      0    23      2     1\n",
       "15  2004      1    43      2     1\n",
       "16  2005      1    10      2     2\n",
       "17  2006      1    12      2     2\n",
       "18  2007      0    60      2     2\n",
       "19  2008      0    49      2     2\n",
       "20  2010      1    21      2     3\n",
       "21  2011      0    22      2     3\n",
       "22  2012      0    14      2     3\n",
       "23  2013      1    10      2     3"
      ]
     },
     "execution_count": 8,
     "metadata": {},
     "output_type": "execute_result"
    }
   ],
   "source": [
    "# Now we can easily do a nested loop to loop across this paths, however we must \n",
    "# initialize a data frame to save it there: \n",
    "\n",
    "df_final = pd.DataFrame()\n",
    "for i in range(1, 3):\n",
    "    df_int = pd.DataFrame()\n",
    "    for e in range(1, 4):\n",
    "        df = read_info(i, e)\n",
    "        df_int = df_int.append(df)\n",
    "    df_final = df_final.append(df_int)\n",
    "    \n",
    "df_final = df_final.reset_index(drop = True)\n",
    "df_final"
   ]
  },
  {
   "cell_type": "markdown",
   "id": "3a798e2d",
   "metadata": {},
   "source": [
    "### Graphs using Matplotlib"
   ]
  },
  {
   "cell_type": "code",
   "execution_count": 76,
   "id": "f72a846b",
   "metadata": {},
   "outputs": [
    {
     "data": {
      "image/png": "[encoded data removed]",
      "text/plain": [
       "<Figure size 640x480 with 1 Axes>"
      ]
     },
     "metadata": {},
     "output_type": "display_data"
    }
   ],
   "source": [
    "# Easiest graph: plotting y and x points:\n",
    "\n",
    "xpoints = np.array([1, 8])\n",
    "ypoints = np.array([3, 10])\n",
    "\n",
    "plt.plot(xpoints, ypoints)\n",
    "plt.show()"
   ]
  },
  {
   "cell_type": "code",
   "execution_count": 78,
   "id": "d7f9d03c",
   "metadata": {},
   "outputs": [
    {
     "data": {
      "image/png": "[encoded data removed]",
      "text/plain": [
       "<Figure size 640x480 with 1 Axes>"
      ]
     },
     "metadata": {},
     "output_type": "display_data"
    }
   ],
   "source": [
    "# Using labels and title:\n",
    "\n",
    "xpoints = np.array([1, 2, 6, 8])\n",
    "ypoints = np.array([3, 8, 1, 10])\n",
    "\n",
    "plt.plot(xpoints, ypoints)\n",
    "plt.title('Title')\n",
    "plt.xlabel(\"X Axis\")\n",
    "plt.ylabel(\"Y Axis\")\n",
    "plt.show()"
   ]
  },
  {
   "cell_type": "code",
   "execution_count": 79,
   "id": "45e6d782",
   "metadata": {},
   "outputs": [
    {
     "data": {
      "image/png": "[encoded data removed]",
      "text/plain": [
       "<Figure size 640x480 with 2 Axes>"
      ]
     },
     "metadata": {},
     "output_type": "display_data"
    }
   ],
   "source": [
    "# Adding subplots:\n",
    "\n",
    "#plot 1:\n",
    "x = np.array([0, 1, 2, 3])\n",
    "y = np.array([3, 8, 1, 10])\n",
    "\n",
    "plt.subplot(2, 1, 1)\n",
    "plt.plot(x,y)\n",
    "\n",
    "#plot 2:\n",
    "x = np.array([0, 1, 2, 3])\n",
    "y = np.array([10, 20, 30, 40])\n",
    "\n",
    "plt.subplot(2, 1, 2)\n",
    "plt.plot(x,y)\n",
    "\n",
    "plt.show()"
   ]
  },
  {
   "cell_type": "code",
   "execution_count": 82,
   "id": "a118a6f1",
   "metadata": {},
   "outputs": [
    {
     "data": {
      "image/png": "[encoded data removed]",
      "text/plain": [
       "<Figure size 640x480 with 1 Axes>"
      ]
     },
     "metadata": {},
     "output_type": "display_data"
    }
   ],
   "source": [
    "# Scatter plots:\n",
    "from numpy import random\n",
    "y = random.normal(loc=0, scale=1, size=(1000))\n",
    "x = random.uniform(-2, 2, size=(1000))\n",
    "\n",
    "plt.scatter(x, y)\n",
    "plt.show()"
   ]
  },
  {
   "cell_type": "code",
   "execution_count": 83,
   "id": "858e85c8",
   "metadata": {},
   "outputs": [
    {
     "data": {
      "image/png": "[encoded data removed]",
      "text/plain": [
       "<Figure size 640x480 with 1 Axes>"
      ]
     },
     "metadata": {},
     "output_type": "display_data"
    }
   ],
   "source": [
    "# Or distinguish between different points:\n",
    "y = random.normal(loc=0, scale=1, size=(1000))\n",
    "x = random.uniform(-2, 2, size=(1000))\n",
    "y2 = random.normal(2, 1, size = (1000))\n",
    "\n",
    "plt.scatter(x,y2)\n",
    "plt.scatter(x, y)\n",
    "plt.show()"
   ]
  },
  {
   "cell_type": "code",
   "execution_count": 87,
   "id": "c70e6ea6",
   "metadata": {},
   "outputs": [
    {
     "name": "stderr",
     "output_type": "stream",
     "text": [
      "C:\\Users\\Dell\\miniconda3\\lib\\site-packages\\seaborn\\distributions.py:2619: FutureWarning: `distplot` is a deprecated function and will be removed in a future version. Please adapt your code to use either `displot` (a figure-level function with similar flexibility) or `histplot` (an axes-level function for histograms).\n",
      "  warnings.warn(msg, FutureWarning)\n"
     ]
    },
    {
     "data": {
      "text/plain": [
       "<AxesSubplot:ylabel='Density'>"
      ]
     },
     "execution_count": 87,
     "metadata": {},
     "output_type": "execute_result"
    },
    {
     "data": {
      "image/png": "[encoded data removed]",
      "text/plain": [
       "<Figure size 640x480 with 1 Axes>"
      ]
     },
     "metadata": {},
     "output_type": "display_data"
    }
   ],
   "source": [
    "# We can also plot this distributions:\n",
    "\n",
    "y = random.normal(loc=0, scale=1, size=(1000))\n",
    "x = random.uniform(-2, 2, size=(1000))\n",
    "y2 = random.normal(2, 1, size = (1000))\n",
    "\n",
    "import seaborn as sns\n",
    "\n",
    "sns.distplot(y, hist=True)"
   ]
  },
  {
   "cell_type": "code",
   "execution_count": 90,
   "id": "1944769d",
   "metadata": {},
   "outputs": [
    {
     "data": {
      "image/png": "[encoded data removed]",
      "text/plain": [
       "<Figure size 640x480 with 1 Axes>"
      ]
     },
     "metadata": {},
     "output_type": "display_data"
    }
   ],
   "source": [
    "# Or with normal histogram plot:\n",
    "\n",
    "y2 = random.normal(2, 1, size = (1000))\n",
    "\n",
    "plt.hist(y2, bins = 20)\n",
    "plt.show() "
   ]
  },
  {
   "cell_type": "code",
   "execution_count": 91,
   "id": "b07da0f5",
   "metadata": {},
   "outputs": [
    {
     "data": {
      "image/png": "[encoded data removed]",
      "text/plain": [
       "<Figure size 640x480 with 1 Axes>"
      ]
     },
     "metadata": {},
     "output_type": "display_data"
    }
   ],
   "source": [
    "# Two different histograms in the same graph\n",
    "y = random.normal(loc=0, scale=1, size=(1000))\n",
    "y2 = random.normal(2, 1, size = (1000))\n",
    "\n",
    "plt.hist(y2, bins = 20)\n",
    "plt.hist(y, bins = 20)\n",
    "plt.show() "
   ]
  }
 ],
 "metadata": {
  "kernelspec": {
   "display_name": "Python 3 (ipykernel)",
   "language": "python",
   "name": "python3"
  },
  "language_info": {
   "codemirror_mode": {
    "name": "ipython",
    "version": 3
   },
   "file_extension": ".py",
   "mimetype": "text/x-python",
   "name": "python",
   "nbconvert_exporter": "python",
   "pygments_lexer": "ipython3",
   "version": "3.9.12"
  }
 },
 "nbformat": 4,
 "nbformat_minor": 5
}
